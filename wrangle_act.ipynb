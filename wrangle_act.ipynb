{
 "cells": [
  {
   "cell_type": "markdown",
   "metadata": {},
   "source": [
    "<div align=\"right\"><h1>We Rate Dogs Data Wrangling Project</h1></div>"
   ]
  },
  {
   "cell_type": "markdown",
   "metadata": {},
   "source": [
    "<div align=\"right\"><i>by Sarah Aranda</i></div>"
   ]
  },
  {
   "cell_type": "markdown",
   "metadata": {},
   "source": [
    "<img src=\"https://images.pexels.com/photos/8700/wall-animal-dog-pet.jpg?auto=compress&cs=tinysrgb&dpr=2&h=650&w=940\"></img>"
   ]
  },
  {
   "cell_type": "markdown",
   "metadata": {},
   "source": [
    "<div align=\"center\"><h1>Preparation</h1></div>"
   ]
  },
  {
   "cell_type": "code",
   "execution_count": 1,
   "metadata": {},
   "outputs": [],
   "source": [
    "# Import libraries to be used\n",
    "import numpy as np\n",
    "import pandas as pd\n",
    "import tweepy\n",
    "import requests\n",
    "import json\n",
    "import time\n",
    "import datetime as dt\n",
    "import matplotlib.pyplot as plt\n",
    "import seaborn as sns"
   ]
  },
  {
   "cell_type": "markdown",
   "metadata": {},
   "source": [
    "<div align=\"center\"><h1>Gather</h1></div>"
   ]
  },
  {
   "cell_type": "markdown",
   "metadata": {},
   "source": [
    "<h3>Twitter Archive (Dataset 01 of 03)</h3>"
   ]
  },
  {
   "cell_type": "code",
   "execution_count": 2,
   "metadata": {},
   "outputs": [],
   "source": [
    "twitter_archive = pd.read_csv('twitter_archive_enhanced.csv')"
   ]
  },
  {
   "cell_type": "markdown",
   "metadata": {},
   "source": [
    "<h3>Predictions (Dataset 02 of 03)</h3>"
   ]
  },
  {
   "cell_type": "code",
   "execution_count": 3,
   "metadata": {
    "scrolled": true
   },
   "outputs": [
    {
     "data": {
      "text/plain": [
       "<Response [200]>"
      ]
     },
     "execution_count": 3,
     "metadata": {},
     "output_type": "execute_result"
    }
   ],
   "source": [
    "# This dataset will be downloaded programmatically using requests library.\n",
    "\n",
    "url = 'https://d17h27t6h515a5.cloudfront.net/topher/2017/August/599fd2ad_image-predictions/image-predictions.tsv'\n",
    "response = requests.get(url)\n",
    "response"
   ]
  },
  {
   "cell_type": "code",
   "execution_count": 4,
   "metadata": {
    "scrolled": true
   },
   "outputs": [],
   "source": [
    "# HTTP status code (200) above indicates request was a success\n",
    "# Check content of response variable\n",
    "# response.content"
   ]
  },
  {
   "cell_type": "code",
   "execution_count": 5,
   "metadata": {},
   "outputs": [],
   "source": [
    "# Save file to computer\n",
    "with open('image-predictions.tsv', 'wb') as file:\n",
    "    file.write(response.content)"
   ]
  },
  {
   "cell_type": "code",
   "execution_count": 6,
   "metadata": {},
   "outputs": [],
   "source": [
    "predictions = pd.read_csv('image_predictions.tsv', sep='\\t')"
   ]
  },
  {
   "cell_type": "markdown",
   "metadata": {},
   "source": [
    "<h3>Twitter API (Dataset 03 of 03)</h3>"
   ]
  },
  {
   "cell_type": "code",
   "execution_count": 7,
   "metadata": {},
   "outputs": [],
   "source": [
    "# Create API object to gather Twitter data\n",
    "\n",
    "#import tweepy\n",
    "\n",
    "#consumer_key = '...'\n",
    "#consumer_secret = '...'\n",
    "#access_token = '...'\n",
    "#access_secret = '...'\n",
    "\n",
    "#auth = tweepy.OAuthHandler(consumer_key, consumer_secret)\n",
    "#auth.set_access_token(access_token, access_secret)\n",
    "\n",
    "#api = tweepy.API(auth)"
   ]
  },
  {
   "cell_type": "code",
   "execution_count": 8,
   "metadata": {},
   "outputs": [],
   "source": [
    "# Create list of tweet IDs from first dataset\n",
    "tweet_ids = twitter_archive['tweet_id'].tolist()"
   ]
  },
  {
   "cell_type": "code",
   "execution_count": 9,
   "metadata": {
    "scrolled": true
   },
   "outputs": [],
   "source": [
    "# from tweepy import OAuthHandler\n",
    "# from timeit import default_timer as timer\n",
    "\n",
    "# count = 0\n",
    "# fails_dict = {}\n",
    "# start = timer()\n",
    "\n",
    "# #ok i put this in\n",
    "# tweet_test = []\n",
    "\n",
    "# # Save each tweet's returned JSON as a new line in a .txt file\n",
    "# with open('tweet_json.txt', 'w') as outfile:\n",
    "#     # This loop will likely take 20-30 minutes to run because of Twitter's rate limit\n",
    "#     for tweet_id in tweet_ids:\n",
    "#         count += 1\n",
    "#         print(str(count) + \": \" + str(tweet_id))\n",
    "#         try:\n",
    "#             tweet = api.get_status(tweet_id, tweet_mode='extended')\n",
    "#             print(\"Success\")\n",
    "#             json.dump(tweet._json, outfile)\n",
    "#             outfile.write('\\n')\n",
    "            \n",
    "#         except tweepy.TweepError as e:\n",
    "#             print(\"Fail\")\n",
    "#             fails_dict[tweet_id] = e\n",
    "#             pass\n",
    "# end = timer()\n",
    "# print(end - start)\n",
    "# print(fails_dict)"
   ]
  },
  {
   "cell_type": "code",
   "execution_count": 10,
   "metadata": {},
   "outputs": [],
   "source": [
    "# Save only certain tweet elements in dataframe\n",
    "elements_to_save = ['id', 'favorite_count', 'retweet_count']\n",
    "# Later convert list to dataframe\n",
    "data = []\n",
    "\n",
    "with open('tweet_json.txt', 'r') as readfile: \n",
    "    # Read in JSON line and convert to dict\n",
    "    tweet_json = readfile.readline()\n",
    "    \n",
    "    # Read line by line into DataFrame\n",
    "    while tweet_json:\n",
    "        tweet_dict = json.loads(tweet_json)\n",
    "        # Create a smaller dict\n",
    "        data_row = dict((k, tweet_dict[k]) for k in elements_to_save)\n",
    "        data.append(data_row)\n",
    "        \n",
    "        # Read in JSON line and convert to dict\n",
    "        tweet_json = readfile.readline()       \n",
    "    \n",
    "df_tweet_info = pd.DataFrame.from_dict(data)"
   ]
  },
  {
   "cell_type": "markdown",
   "metadata": {},
   "source": [
    "<div align=\"center\"><h1>Assess</h1></div>"
   ]
  },
  {
   "cell_type": "markdown",
   "metadata": {},
   "source": [
    "<h3>Twitter Archive (Dataset 01 of 03)</h3>"
   ]
  },
  {
   "cell_type": "code",
   "execution_count": 11,
   "metadata": {
    "scrolled": false
   },
   "outputs": [
    {
     "name": "stdout",
     "output_type": "stream",
     "text": [
      "<class 'pandas.core.frame.DataFrame'>\n",
      "RangeIndex: 2356 entries, 0 to 2355\n",
      "Data columns (total 17 columns):\n",
      "tweet_id                      2356 non-null int64\n",
      "in_reply_to_status_id         78 non-null float64\n",
      "in_reply_to_user_id           78 non-null float64\n",
      "timestamp                     2356 non-null object\n",
      "source                        2356 non-null object\n",
      "text                          2356 non-null object\n",
      "retweeted_status_id           181 non-null float64\n",
      "retweeted_status_user_id      181 non-null float64\n",
      "retweeted_status_timestamp    181 non-null object\n",
      "expanded_urls                 2297 non-null object\n",
      "rating_numerator              2356 non-null int64\n",
      "rating_denominator            2356 non-null int64\n",
      "name                          2356 non-null object\n",
      "doggo                         2356 non-null object\n",
      "floofer                       2356 non-null object\n",
      "pupper                        2356 non-null object\n",
      "puppo                         2356 non-null object\n",
      "dtypes: float64(4), int64(3), object(10)\n",
      "memory usage: 313.0+ KB\n"
     ]
    }
   ],
   "source": [
    "# Get idea of dataset\n",
    "twitter_archive.info()"
   ]
  },
  {
   "cell_type": "code",
   "execution_count": 12,
   "metadata": {},
   "outputs": [
    {
     "data": {
      "text/html": [
       "<div>\n",
       "<style scoped>\n",
       "    .dataframe tbody tr th:only-of-type {\n",
       "        vertical-align: middle;\n",
       "    }\n",
       "\n",
       "    .dataframe tbody tr th {\n",
       "        vertical-align: top;\n",
       "    }\n",
       "\n",
       "    .dataframe thead th {\n",
       "        text-align: right;\n",
       "    }\n",
       "</style>\n",
       "<table border=\"1\" class=\"dataframe\">\n",
       "  <thead>\n",
       "    <tr style=\"text-align: right;\">\n",
       "      <th></th>\n",
       "      <th>tweet_id</th>\n",
       "      <th>in_reply_to_status_id</th>\n",
       "      <th>in_reply_to_user_id</th>\n",
       "      <th>timestamp</th>\n",
       "      <th>source</th>\n",
       "      <th>text</th>\n",
       "      <th>retweeted_status_id</th>\n",
       "      <th>retweeted_status_user_id</th>\n",
       "      <th>retweeted_status_timestamp</th>\n",
       "      <th>expanded_urls</th>\n",
       "      <th>rating_numerator</th>\n",
       "      <th>rating_denominator</th>\n",
       "      <th>name</th>\n",
       "      <th>doggo</th>\n",
       "      <th>floofer</th>\n",
       "      <th>pupper</th>\n",
       "      <th>puppo</th>\n",
       "    </tr>\n",
       "  </thead>\n",
       "  <tbody>\n",
       "    <tr>\n",
       "      <th>2008</th>\n",
       "      <td>672256522047614977</td>\n",
       "      <td>NaN</td>\n",
       "      <td>NaN</td>\n",
       "      <td>2015-12-03 03:30:19 +0000</td>\n",
       "      <td>&lt;a href=\"http://twitter.com/download/iphone\" r...</td>\n",
       "      <td>Mighty rare dogs here. Long smooth necks. Grea...</td>\n",
       "      <td>NaN</td>\n",
       "      <td>NaN</td>\n",
       "      <td>NaN</td>\n",
       "      <td>https://twitter.com/dog_rates/status/672256522...</td>\n",
       "      <td>8</td>\n",
       "      <td>10</td>\n",
       "      <td>None</td>\n",
       "      <td>None</td>\n",
       "      <td>None</td>\n",
       "      <td>None</td>\n",
       "      <td>None</td>\n",
       "    </tr>\n",
       "    <tr>\n",
       "      <th>929</th>\n",
       "      <td>754482103782404096</td>\n",
       "      <td>NaN</td>\n",
       "      <td>NaN</td>\n",
       "      <td>2016-07-17 01:05:25 +0000</td>\n",
       "      <td>&lt;a href=\"http://twitter.com/download/iphone\" r...</td>\n",
       "      <td>This is Milo. He's currently plotting his reve...</td>\n",
       "      <td>NaN</td>\n",
       "      <td>NaN</td>\n",
       "      <td>NaN</td>\n",
       "      <td>https://twitter.com/dog_rates/status/754482103...</td>\n",
       "      <td>10</td>\n",
       "      <td>10</td>\n",
       "      <td>Milo</td>\n",
       "      <td>None</td>\n",
       "      <td>None</td>\n",
       "      <td>None</td>\n",
       "      <td>None</td>\n",
       "    </tr>\n",
       "    <tr>\n",
       "      <th>339</th>\n",
       "      <td>832273440279240704</td>\n",
       "      <td>NaN</td>\n",
       "      <td>NaN</td>\n",
       "      <td>2017-02-16 17:00:25 +0000</td>\n",
       "      <td>&lt;a href=\"http://twitter.com/download/iphone\" r...</td>\n",
       "      <td>Say hello to Smiley. He's a blind therapy dogg...</td>\n",
       "      <td>NaN</td>\n",
       "      <td>NaN</td>\n",
       "      <td>NaN</td>\n",
       "      <td>https://twitter.com/dog_rates/status/832273440...</td>\n",
       "      <td>14</td>\n",
       "      <td>10</td>\n",
       "      <td>Smiley</td>\n",
       "      <td>doggo</td>\n",
       "      <td>None</td>\n",
       "      <td>None</td>\n",
       "      <td>None</td>\n",
       "    </tr>\n",
       "    <tr>\n",
       "      <th>1910</th>\n",
       "      <td>674416750885273600</td>\n",
       "      <td>NaN</td>\n",
       "      <td>NaN</td>\n",
       "      <td>2015-12-09 02:34:18 +0000</td>\n",
       "      <td>&lt;a href=\"http://twitter.com/download/iphone\" r...</td>\n",
       "      <td>This is Jonah. He's a Stinted Fisher Price. En...</td>\n",
       "      <td>NaN</td>\n",
       "      <td>NaN</td>\n",
       "      <td>NaN</td>\n",
       "      <td>https://twitter.com/dog_rates/status/674416750...</td>\n",
       "      <td>10</td>\n",
       "      <td>10</td>\n",
       "      <td>Jonah</td>\n",
       "      <td>None</td>\n",
       "      <td>None</td>\n",
       "      <td>None</td>\n",
       "      <td>None</td>\n",
       "    </tr>\n",
       "    <tr>\n",
       "      <th>2040</th>\n",
       "      <td>671544874165002241</td>\n",
       "      <td>NaN</td>\n",
       "      <td>NaN</td>\n",
       "      <td>2015-12-01 04:22:29 +0000</td>\n",
       "      <td>&lt;a href=\"http://twitter.com/download/iphone\" r...</td>\n",
       "      <td>Interesting dog here. Very large. Purple. Mani...</td>\n",
       "      <td>NaN</td>\n",
       "      <td>NaN</td>\n",
       "      <td>NaN</td>\n",
       "      <td>https://twitter.com/dog_rates/status/671544874...</td>\n",
       "      <td>6</td>\n",
       "      <td>10</td>\n",
       "      <td>None</td>\n",
       "      <td>None</td>\n",
       "      <td>None</td>\n",
       "      <td>None</td>\n",
       "      <td>None</td>\n",
       "    </tr>\n",
       "    <tr>\n",
       "      <th>1253</th>\n",
       "      <td>710833117892898816</td>\n",
       "      <td>NaN</td>\n",
       "      <td>NaN</td>\n",
       "      <td>2016-03-18 14:19:56 +0000</td>\n",
       "      <td>&lt;a href=\"http://twitter.com/download/iphone\" r...</td>\n",
       "      <td>Say hello to Sora. She's an Egyptian Pumpernic...</td>\n",
       "      <td>NaN</td>\n",
       "      <td>NaN</td>\n",
       "      <td>NaN</td>\n",
       "      <td>https://twitter.com/dog_rates/status/710833117...</td>\n",
       "      <td>12</td>\n",
       "      <td>10</td>\n",
       "      <td>Sora</td>\n",
       "      <td>None</td>\n",
       "      <td>None</td>\n",
       "      <td>None</td>\n",
       "      <td>None</td>\n",
       "    </tr>\n",
       "    <tr>\n",
       "      <th>1541</th>\n",
       "      <td>689623661272240129</td>\n",
       "      <td>NaN</td>\n",
       "      <td>NaN</td>\n",
       "      <td>2016-01-20 01:41:08 +0000</td>\n",
       "      <td>&lt;a href=\"http://twitter.com/download/iphone\" r...</td>\n",
       "      <td>This is Lucy. She's terrified of the stuffed b...</td>\n",
       "      <td>NaN</td>\n",
       "      <td>NaN</td>\n",
       "      <td>NaN</td>\n",
       "      <td>https://twitter.com/dog_rates/status/689623661...</td>\n",
       "      <td>10</td>\n",
       "      <td>10</td>\n",
       "      <td>Lucy</td>\n",
       "      <td>None</td>\n",
       "      <td>None</td>\n",
       "      <td>pupper</td>\n",
       "      <td>None</td>\n",
       "    </tr>\n",
       "    <tr>\n",
       "      <th>438</th>\n",
       "      <td>820013781606658049</td>\n",
       "      <td>NaN</td>\n",
       "      <td>NaN</td>\n",
       "      <td>2017-01-13 21:04:55 +0000</td>\n",
       "      <td>&lt;a href=\"http://twitter.com/download/iphone\" r...</td>\n",
       "      <td>RT @dog_rates: This is Oliver. He has dreams o...</td>\n",
       "      <td>8.199522e+17</td>\n",
       "      <td>4.196984e+09</td>\n",
       "      <td>2017-01-13 17:00:21 +0000</td>\n",
       "      <td>https://www.gofundme.com/servicedogoliver,http...</td>\n",
       "      <td>13</td>\n",
       "      <td>10</td>\n",
       "      <td>Oliver</td>\n",
       "      <td>None</td>\n",
       "      <td>None</td>\n",
       "      <td>None</td>\n",
       "      <td>puppo</td>\n",
       "    </tr>\n",
       "    <tr>\n",
       "      <th>669</th>\n",
       "      <td>790227638568808452</td>\n",
       "      <td>NaN</td>\n",
       "      <td>NaN</td>\n",
       "      <td>2016-10-23 16:25:25 +0000</td>\n",
       "      <td>&lt;a href=\"http://twitter.com/download/iphone\" r...</td>\n",
       "      <td>RT @dog_rates: This is Leela. She's a Fetty Wo...</td>\n",
       "      <td>7.626999e+17</td>\n",
       "      <td>4.196984e+09</td>\n",
       "      <td>2016-08-08 17:19:51 +0000</td>\n",
       "      <td>https://twitter.com/dog_rates/status/762699858...</td>\n",
       "      <td>11</td>\n",
       "      <td>10</td>\n",
       "      <td>Leela</td>\n",
       "      <td>None</td>\n",
       "      <td>None</td>\n",
       "      <td>None</td>\n",
       "      <td>None</td>\n",
       "    </tr>\n",
       "    <tr>\n",
       "      <th>1951</th>\n",
       "      <td>673686845050527744</td>\n",
       "      <td>NaN</td>\n",
       "      <td>NaN</td>\n",
       "      <td>2015-12-07 02:13:55 +0000</td>\n",
       "      <td>&lt;a href=\"http://twitter.com/download/iphone\" r...</td>\n",
       "      <td>This is George. He's upset that the 4th of Jul...</td>\n",
       "      <td>NaN</td>\n",
       "      <td>NaN</td>\n",
       "      <td>NaN</td>\n",
       "      <td>https://twitter.com/dog_rates/status/673686845...</td>\n",
       "      <td>11</td>\n",
       "      <td>10</td>\n",
       "      <td>George</td>\n",
       "      <td>None</td>\n",
       "      <td>None</td>\n",
       "      <td>None</td>\n",
       "      <td>None</td>\n",
       "    </tr>\n",
       "    <tr>\n",
       "      <th>1904</th>\n",
       "      <td>674632714662858753</td>\n",
       "      <td>NaN</td>\n",
       "      <td>NaN</td>\n",
       "      <td>2015-12-09 16:52:27 +0000</td>\n",
       "      <td>&lt;a href=\"http://twitter.com/download/iphone\" r...</td>\n",
       "      <td>Rare submerged pup here. Holds breath for a lo...</td>\n",
       "      <td>NaN</td>\n",
       "      <td>NaN</td>\n",
       "      <td>NaN</td>\n",
       "      <td>https://twitter.com/dog_rates/status/674632714...</td>\n",
       "      <td>5</td>\n",
       "      <td>10</td>\n",
       "      <td>None</td>\n",
       "      <td>None</td>\n",
       "      <td>None</td>\n",
       "      <td>None</td>\n",
       "      <td>None</td>\n",
       "    </tr>\n",
       "    <tr>\n",
       "      <th>593</th>\n",
       "      <td>798925684722855936</td>\n",
       "      <td>NaN</td>\n",
       "      <td>NaN</td>\n",
       "      <td>2016-11-16 16:28:21 +0000</td>\n",
       "      <td>&lt;a href=\"http://twitter.com/download/iphone\" r...</td>\n",
       "      <td>This is Shadow. He's a firm believer that they...</td>\n",
       "      <td>NaN</td>\n",
       "      <td>NaN</td>\n",
       "      <td>NaN</td>\n",
       "      <td>https://twitter.com/dog_rates/status/798925684...</td>\n",
       "      <td>11</td>\n",
       "      <td>10</td>\n",
       "      <td>Shadow</td>\n",
       "      <td>None</td>\n",
       "      <td>None</td>\n",
       "      <td>None</td>\n",
       "      <td>None</td>\n",
       "    </tr>\n",
       "    <tr>\n",
       "      <th>2297</th>\n",
       "      <td>667073648344346624</td>\n",
       "      <td>NaN</td>\n",
       "      <td>NaN</td>\n",
       "      <td>2015-11-18 20:15:26 +0000</td>\n",
       "      <td>&lt;a href=\"http://twitter.com/download/iphone\" r...</td>\n",
       "      <td>Here is Dave. He is actually just a skinny leg...</td>\n",
       "      <td>NaN</td>\n",
       "      <td>NaN</td>\n",
       "      <td>NaN</td>\n",
       "      <td>https://twitter.com/dog_rates/status/667073648...</td>\n",
       "      <td>10</td>\n",
       "      <td>10</td>\n",
       "      <td>Dave</td>\n",
       "      <td>None</td>\n",
       "      <td>None</td>\n",
       "      <td>None</td>\n",
       "      <td>None</td>\n",
       "    </tr>\n",
       "    <tr>\n",
       "      <th>864</th>\n",
       "      <td>762464539388485633</td>\n",
       "      <td>NaN</td>\n",
       "      <td>NaN</td>\n",
       "      <td>2016-08-08 01:44:46 +0000</td>\n",
       "      <td>&lt;a href=\"http://twitter.com/download/iphone\" r...</td>\n",
       "      <td>This is Buddy. His father was a bear and his m...</td>\n",
       "      <td>NaN</td>\n",
       "      <td>NaN</td>\n",
       "      <td>NaN</td>\n",
       "      <td>https://twitter.com/dog_rates/status/762464539...</td>\n",
       "      <td>12</td>\n",
       "      <td>10</td>\n",
       "      <td>Buddy</td>\n",
       "      <td>None</td>\n",
       "      <td>None</td>\n",
       "      <td>None</td>\n",
       "      <td>None</td>\n",
       "    </tr>\n",
       "    <tr>\n",
       "      <th>535</th>\n",
       "      <td>807059379405148160</td>\n",
       "      <td>NaN</td>\n",
       "      <td>NaN</td>\n",
       "      <td>2016-12-09 03:08:45 +0000</td>\n",
       "      <td>&lt;a href=\"http://twitter.com/download/iphone\" r...</td>\n",
       "      <td>RT @dog_rates: This is Cali. She arrived preas...</td>\n",
       "      <td>7.829691e+17</td>\n",
       "      <td>4.196984e+09</td>\n",
       "      <td>2016-10-03 15:42:44 +0000</td>\n",
       "      <td>https://twitter.com/dog_rates/status/782969140...</td>\n",
       "      <td>12</td>\n",
       "      <td>10</td>\n",
       "      <td>Cali</td>\n",
       "      <td>None</td>\n",
       "      <td>None</td>\n",
       "      <td>None</td>\n",
       "      <td>None</td>\n",
       "    </tr>\n",
       "    <tr>\n",
       "      <th>1309</th>\n",
       "      <td>707059547140169728</td>\n",
       "      <td>NaN</td>\n",
       "      <td>NaN</td>\n",
       "      <td>2016-03-08 04:25:07 +0000</td>\n",
       "      <td>&lt;a href=\"http://twitter.com/download/iphone\" r...</td>\n",
       "      <td>Say hello to Cupcake. She's an Icelandic Dippe...</td>\n",
       "      <td>NaN</td>\n",
       "      <td>NaN</td>\n",
       "      <td>NaN</td>\n",
       "      <td>https://twitter.com/dog_rates/status/707059547...</td>\n",
       "      <td>11</td>\n",
       "      <td>10</td>\n",
       "      <td>Cupcake</td>\n",
       "      <td>None</td>\n",
       "      <td>None</td>\n",
       "      <td>None</td>\n",
       "      <td>None</td>\n",
       "    </tr>\n",
       "    <tr>\n",
       "      <th>295</th>\n",
       "      <td>837471256429613056</td>\n",
       "      <td>NaN</td>\n",
       "      <td>NaN</td>\n",
       "      <td>2017-03-03 01:14:41 +0000</td>\n",
       "      <td>&lt;a href=\"http://twitter.com/download/iphone\" r...</td>\n",
       "      <td>This is Vincent. He's suave as h*ck. Will be y...</td>\n",
       "      <td>NaN</td>\n",
       "      <td>NaN</td>\n",
       "      <td>NaN</td>\n",
       "      <td>https://twitter.com/dog_rates/status/837471256...</td>\n",
       "      <td>12</td>\n",
       "      <td>10</td>\n",
       "      <td>Vincent</td>\n",
       "      <td>None</td>\n",
       "      <td>None</td>\n",
       "      <td>None</td>\n",
       "      <td>None</td>\n",
       "    </tr>\n",
       "    <tr>\n",
       "      <th>1634</th>\n",
       "      <td>684225744407494656</td>\n",
       "      <td>6.842229e+17</td>\n",
       "      <td>4.196984e+09</td>\n",
       "      <td>2016-01-05 04:11:44 +0000</td>\n",
       "      <td>&lt;a href=\"http://twitter.com/download/iphone\" r...</td>\n",
       "      <td>Two sneaky puppers were not initially seen, mo...</td>\n",
       "      <td>NaN</td>\n",
       "      <td>NaN</td>\n",
       "      <td>NaN</td>\n",
       "      <td>https://twitter.com/dog_rates/status/684225744...</td>\n",
       "      <td>143</td>\n",
       "      <td>130</td>\n",
       "      <td>None</td>\n",
       "      <td>None</td>\n",
       "      <td>None</td>\n",
       "      <td>None</td>\n",
       "      <td>None</td>\n",
       "    </tr>\n",
       "    <tr>\n",
       "      <th>1410</th>\n",
       "      <td>699036661657767936</td>\n",
       "      <td>NaN</td>\n",
       "      <td>NaN</td>\n",
       "      <td>2016-02-15 01:05:02 +0000</td>\n",
       "      <td>&lt;a href=\"http://twitter.com/download/iphone\" r...</td>\n",
       "      <td>HAPPY V-DAY FROM YOUR FAV PUPPER SQUAD 13/10 f...</td>\n",
       "      <td>NaN</td>\n",
       "      <td>NaN</td>\n",
       "      <td>NaN</td>\n",
       "      <td>https://twitter.com/dog_rates/status/699036661...</td>\n",
       "      <td>13</td>\n",
       "      <td>10</td>\n",
       "      <td>None</td>\n",
       "      <td>None</td>\n",
       "      <td>None</td>\n",
       "      <td>pupper</td>\n",
       "      <td>None</td>\n",
       "    </tr>\n",
       "    <tr>\n",
       "      <th>2350</th>\n",
       "      <td>666050758794694657</td>\n",
       "      <td>NaN</td>\n",
       "      <td>NaN</td>\n",
       "      <td>2015-11-16 00:30:50 +0000</td>\n",
       "      <td>&lt;a href=\"http://twitter.com/download/iphone\" r...</td>\n",
       "      <td>This is a truly beautiful English Wilson Staff...</td>\n",
       "      <td>NaN</td>\n",
       "      <td>NaN</td>\n",
       "      <td>NaN</td>\n",
       "      <td>https://twitter.com/dog_rates/status/666050758...</td>\n",
       "      <td>10</td>\n",
       "      <td>10</td>\n",
       "      <td>a</td>\n",
       "      <td>None</td>\n",
       "      <td>None</td>\n",
       "      <td>None</td>\n",
       "      <td>None</td>\n",
       "    </tr>\n",
       "    <tr>\n",
       "      <th>1249</th>\n",
       "      <td>711306686208872448</td>\n",
       "      <td>NaN</td>\n",
       "      <td>NaN</td>\n",
       "      <td>2016-03-19 21:41:44 +0000</td>\n",
       "      <td>&lt;a href=\"http://twitter.com/download/iphone\" r...</td>\n",
       "      <td>What hooligan sent in pictures w/out a dog in ...</td>\n",
       "      <td>NaN</td>\n",
       "      <td>NaN</td>\n",
       "      <td>NaN</td>\n",
       "      <td>https://twitter.com/dog_rates/status/711306686...</td>\n",
       "      <td>3</td>\n",
       "      <td>10</td>\n",
       "      <td>None</td>\n",
       "      <td>None</td>\n",
       "      <td>None</td>\n",
       "      <td>None</td>\n",
       "      <td>None</td>\n",
       "    </tr>\n",
       "    <tr>\n",
       "      <th>1662</th>\n",
       "      <td>682962037429899265</td>\n",
       "      <td>NaN</td>\n",
       "      <td>NaN</td>\n",
       "      <td>2016-01-01 16:30:13 +0000</td>\n",
       "      <td>&lt;a href=\"http://twitter.com/download/iphone\" r...</td>\n",
       "      <td>This is Darrel. He just robbed a 7/11 and is i...</td>\n",
       "      <td>NaN</td>\n",
       "      <td>NaN</td>\n",
       "      <td>NaN</td>\n",
       "      <td>https://twitter.com/dog_rates/status/682962037...</td>\n",
       "      <td>7</td>\n",
       "      <td>11</td>\n",
       "      <td>Darrel</td>\n",
       "      <td>None</td>\n",
       "      <td>None</td>\n",
       "      <td>None</td>\n",
       "      <td>None</td>\n",
       "    </tr>\n",
       "    <tr>\n",
       "      <th>784</th>\n",
       "      <td>775096608509886464</td>\n",
       "      <td>NaN</td>\n",
       "      <td>NaN</td>\n",
       "      <td>2016-09-11 22:20:06 +0000</td>\n",
       "      <td>&lt;a href=\"http://twitter.com/download/iphone\" r...</td>\n",
       "      <td>RT @dog_rates: After so many requests, this is...</td>\n",
       "      <td>7.403732e+17</td>\n",
       "      <td>4.196984e+09</td>\n",
       "      <td>2016-06-08 02:41:38 +0000</td>\n",
       "      <td>https://twitter.com/dog_rates/status/740373189...</td>\n",
       "      <td>9</td>\n",
       "      <td>11</td>\n",
       "      <td>None</td>\n",
       "      <td>None</td>\n",
       "      <td>None</td>\n",
       "      <td>None</td>\n",
       "      <td>None</td>\n",
       "    </tr>\n",
       "    <tr>\n",
       "      <th>555</th>\n",
       "      <td>803692223237865472</td>\n",
       "      <td>NaN</td>\n",
       "      <td>NaN</td>\n",
       "      <td>2016-11-29 20:08:52 +0000</td>\n",
       "      <td>&lt;a href=\"http://twitter.com/download/iphone\" r...</td>\n",
       "      <td>RT @dog_rates: I present to you... Dog Jesus. ...</td>\n",
       "      <td>6.914169e+17</td>\n",
       "      <td>4.196984e+09</td>\n",
       "      <td>2016-01-25 00:26:41 +0000</td>\n",
       "      <td>https://twitter.com/dog_rates/status/691416866...</td>\n",
       "      <td>13</td>\n",
       "      <td>10</td>\n",
       "      <td>None</td>\n",
       "      <td>None</td>\n",
       "      <td>None</td>\n",
       "      <td>None</td>\n",
       "      <td>None</td>\n",
       "    </tr>\n",
       "    <tr>\n",
       "      <th>2252</th>\n",
       "      <td>667801013445750784</td>\n",
       "      <td>NaN</td>\n",
       "      <td>NaN</td>\n",
       "      <td>2015-11-20 20:25:43 +0000</td>\n",
       "      <td>&lt;a href=\"http://twitter.com/download/iphone\" r...</td>\n",
       "      <td>OMIGOD 12/10 https://t.co/SVMF4Frf1w</td>\n",
       "      <td>NaN</td>\n",
       "      <td>NaN</td>\n",
       "      <td>NaN</td>\n",
       "      <td>https://twitter.com/dog_rates/status/667801013...</td>\n",
       "      <td>12</td>\n",
       "      <td>10</td>\n",
       "      <td>None</td>\n",
       "      <td>None</td>\n",
       "      <td>None</td>\n",
       "      <td>None</td>\n",
       "      <td>None</td>\n",
       "    </tr>\n",
       "    <tr>\n",
       "      <th>1511</th>\n",
       "      <td>691416866452082688</td>\n",
       "      <td>NaN</td>\n",
       "      <td>NaN</td>\n",
       "      <td>2016-01-25 00:26:41 +0000</td>\n",
       "      <td>&lt;a href=\"http://twitter.com/download/iphone\" r...</td>\n",
       "      <td>I present to you... Dog Jesus. 13/10 (he could...</td>\n",
       "      <td>NaN</td>\n",
       "      <td>NaN</td>\n",
       "      <td>NaN</td>\n",
       "      <td>https://twitter.com/dog_rates/status/691416866...</td>\n",
       "      <td>13</td>\n",
       "      <td>10</td>\n",
       "      <td>None</td>\n",
       "      <td>None</td>\n",
       "      <td>None</td>\n",
       "      <td>None</td>\n",
       "      <td>None</td>\n",
       "    </tr>\n",
       "    <tr>\n",
       "      <th>4</th>\n",
       "      <td>891327558926688256</td>\n",
       "      <td>NaN</td>\n",
       "      <td>NaN</td>\n",
       "      <td>2017-07-29 16:00:24 +0000</td>\n",
       "      <td>&lt;a href=\"http://twitter.com/download/iphone\" r...</td>\n",
       "      <td>This is Franklin. He would like you to stop ca...</td>\n",
       "      <td>NaN</td>\n",
       "      <td>NaN</td>\n",
       "      <td>NaN</td>\n",
       "      <td>https://twitter.com/dog_rates/status/891327558...</td>\n",
       "      <td>12</td>\n",
       "      <td>10</td>\n",
       "      <td>Franklin</td>\n",
       "      <td>None</td>\n",
       "      <td>None</td>\n",
       "      <td>None</td>\n",
       "      <td>None</td>\n",
       "    </tr>\n",
       "    <tr>\n",
       "      <th>159</th>\n",
       "      <td>860981674716409858</td>\n",
       "      <td>NaN</td>\n",
       "      <td>NaN</td>\n",
       "      <td>2017-05-06 22:16:42 +0000</td>\n",
       "      <td>&lt;a href=\"http://twitter.com/download/iphone\" r...</td>\n",
       "      <td>RT @dog_rates: Meet Lorenzo. He's an avid nift...</td>\n",
       "      <td>8.605638e+17</td>\n",
       "      <td>4.196984e+09</td>\n",
       "      <td>2017-05-05 18:36:06 +0000</td>\n",
       "      <td>https://www.gofundme.com/help-lorenzo-beat-can...</td>\n",
       "      <td>13</td>\n",
       "      <td>10</td>\n",
       "      <td>Lorenzo</td>\n",
       "      <td>None</td>\n",
       "      <td>None</td>\n",
       "      <td>None</td>\n",
       "      <td>None</td>\n",
       "    </tr>\n",
       "    <tr>\n",
       "      <th>2184</th>\n",
       "      <td>668988183816871936</td>\n",
       "      <td>NaN</td>\n",
       "      <td>NaN</td>\n",
       "      <td>2015-11-24 03:03:06 +0000</td>\n",
       "      <td>&lt;a href=\"http://twitter.com/download/iphone\" r...</td>\n",
       "      <td>Honor to rate this dog. Lots of fur on him. Tw...</td>\n",
       "      <td>NaN</td>\n",
       "      <td>NaN</td>\n",
       "      <td>NaN</td>\n",
       "      <td>https://twitter.com/dog_rates/status/668988183...</td>\n",
       "      <td>7</td>\n",
       "      <td>10</td>\n",
       "      <td>None</td>\n",
       "      <td>None</td>\n",
       "      <td>None</td>\n",
       "      <td>None</td>\n",
       "      <td>None</td>\n",
       "    </tr>\n",
       "    <tr>\n",
       "      <th>886</th>\n",
       "      <td>759943073749200896</td>\n",
       "      <td>NaN</td>\n",
       "      <td>NaN</td>\n",
       "      <td>2016-08-01 02:45:22 +0000</td>\n",
       "      <td>&lt;a href=\"http://vine.co\" rel=\"nofollow\"&gt;Vine -...</td>\n",
       "      <td>Here's a wicked fast pupper. 12/10 camera coul...</td>\n",
       "      <td>NaN</td>\n",
       "      <td>NaN</td>\n",
       "      <td>NaN</td>\n",
       "      <td>https://vine.co/v/5AJm5pq7Kav</td>\n",
       "      <td>12</td>\n",
       "      <td>10</td>\n",
       "      <td>None</td>\n",
       "      <td>None</td>\n",
       "      <td>None</td>\n",
       "      <td>pupper</td>\n",
       "      <td>None</td>\n",
       "    </tr>\n",
       "  </tbody>\n",
       "</table>\n",
       "</div>"
      ],
      "text/plain": [
       "                tweet_id  in_reply_to_status_id  in_reply_to_user_id  \\\n",
       "2008  672256522047614977                    NaN                  NaN   \n",
       "929   754482103782404096                    NaN                  NaN   \n",
       "339   832273440279240704                    NaN                  NaN   \n",
       "1910  674416750885273600                    NaN                  NaN   \n",
       "2040  671544874165002241                    NaN                  NaN   \n",
       "1253  710833117892898816                    NaN                  NaN   \n",
       "1541  689623661272240129                    NaN                  NaN   \n",
       "438   820013781606658049                    NaN                  NaN   \n",
       "669   790227638568808452                    NaN                  NaN   \n",
       "1951  673686845050527744                    NaN                  NaN   \n",
       "1904  674632714662858753                    NaN                  NaN   \n",
       "593   798925684722855936                    NaN                  NaN   \n",
       "2297  667073648344346624                    NaN                  NaN   \n",
       "864   762464539388485633                    NaN                  NaN   \n",
       "535   807059379405148160                    NaN                  NaN   \n",
       "1309  707059547140169728                    NaN                  NaN   \n",
       "295   837471256429613056                    NaN                  NaN   \n",
       "1634  684225744407494656           6.842229e+17         4.196984e+09   \n",
       "1410  699036661657767936                    NaN                  NaN   \n",
       "2350  666050758794694657                    NaN                  NaN   \n",
       "1249  711306686208872448                    NaN                  NaN   \n",
       "1662  682962037429899265                    NaN                  NaN   \n",
       "784   775096608509886464                    NaN                  NaN   \n",
       "555   803692223237865472                    NaN                  NaN   \n",
       "2252  667801013445750784                    NaN                  NaN   \n",
       "1511  691416866452082688                    NaN                  NaN   \n",
       "4     891327558926688256                    NaN                  NaN   \n",
       "159   860981674716409858                    NaN                  NaN   \n",
       "2184  668988183816871936                    NaN                  NaN   \n",
       "886   759943073749200896                    NaN                  NaN   \n",
       "\n",
       "                      timestamp  \\\n",
       "2008  2015-12-03 03:30:19 +0000   \n",
       "929   2016-07-17 01:05:25 +0000   \n",
       "339   2017-02-16 17:00:25 +0000   \n",
       "1910  2015-12-09 02:34:18 +0000   \n",
       "2040  2015-12-01 04:22:29 +0000   \n",
       "1253  2016-03-18 14:19:56 +0000   \n",
       "1541  2016-01-20 01:41:08 +0000   \n",
       "438   2017-01-13 21:04:55 +0000   \n",
       "669   2016-10-23 16:25:25 +0000   \n",
       "1951  2015-12-07 02:13:55 +0000   \n",
       "1904  2015-12-09 16:52:27 +0000   \n",
       "593   2016-11-16 16:28:21 +0000   \n",
       "2297  2015-11-18 20:15:26 +0000   \n",
       "864   2016-08-08 01:44:46 +0000   \n",
       "535   2016-12-09 03:08:45 +0000   \n",
       "1309  2016-03-08 04:25:07 +0000   \n",
       "295   2017-03-03 01:14:41 +0000   \n",
       "1634  2016-01-05 04:11:44 +0000   \n",
       "1410  2016-02-15 01:05:02 +0000   \n",
       "2350  2015-11-16 00:30:50 +0000   \n",
       "1249  2016-03-19 21:41:44 +0000   \n",
       "1662  2016-01-01 16:30:13 +0000   \n",
       "784   2016-09-11 22:20:06 +0000   \n",
       "555   2016-11-29 20:08:52 +0000   \n",
       "2252  2015-11-20 20:25:43 +0000   \n",
       "1511  2016-01-25 00:26:41 +0000   \n",
       "4     2017-07-29 16:00:24 +0000   \n",
       "159   2017-05-06 22:16:42 +0000   \n",
       "2184  2015-11-24 03:03:06 +0000   \n",
       "886   2016-08-01 02:45:22 +0000   \n",
       "\n",
       "                                                 source  \\\n",
       "2008  <a href=\"http://twitter.com/download/iphone\" r...   \n",
       "929   <a href=\"http://twitter.com/download/iphone\" r...   \n",
       "339   <a href=\"http://twitter.com/download/iphone\" r...   \n",
       "1910  <a href=\"http://twitter.com/download/iphone\" r...   \n",
       "2040  <a href=\"http://twitter.com/download/iphone\" r...   \n",
       "1253  <a href=\"http://twitter.com/download/iphone\" r...   \n",
       "1541  <a href=\"http://twitter.com/download/iphone\" r...   \n",
       "438   <a href=\"http://twitter.com/download/iphone\" r...   \n",
       "669   <a href=\"http://twitter.com/download/iphone\" r...   \n",
       "1951  <a href=\"http://twitter.com/download/iphone\" r...   \n",
       "1904  <a href=\"http://twitter.com/download/iphone\" r...   \n",
       "593   <a href=\"http://twitter.com/download/iphone\" r...   \n",
       "2297  <a href=\"http://twitter.com/download/iphone\" r...   \n",
       "864   <a href=\"http://twitter.com/download/iphone\" r...   \n",
       "535   <a href=\"http://twitter.com/download/iphone\" r...   \n",
       "1309  <a href=\"http://twitter.com/download/iphone\" r...   \n",
       "295   <a href=\"http://twitter.com/download/iphone\" r...   \n",
       "1634  <a href=\"http://twitter.com/download/iphone\" r...   \n",
       "1410  <a href=\"http://twitter.com/download/iphone\" r...   \n",
       "2350  <a href=\"http://twitter.com/download/iphone\" r...   \n",
       "1249  <a href=\"http://twitter.com/download/iphone\" r...   \n",
       "1662  <a href=\"http://twitter.com/download/iphone\" r...   \n",
       "784   <a href=\"http://twitter.com/download/iphone\" r...   \n",
       "555   <a href=\"http://twitter.com/download/iphone\" r...   \n",
       "2252  <a href=\"http://twitter.com/download/iphone\" r...   \n",
       "1511  <a href=\"http://twitter.com/download/iphone\" r...   \n",
       "4     <a href=\"http://twitter.com/download/iphone\" r...   \n",
       "159   <a href=\"http://twitter.com/download/iphone\" r...   \n",
       "2184  <a href=\"http://twitter.com/download/iphone\" r...   \n",
       "886   <a href=\"http://vine.co\" rel=\"nofollow\">Vine -...   \n",
       "\n",
       "                                                   text  retweeted_status_id  \\\n",
       "2008  Mighty rare dogs here. Long smooth necks. Grea...                  NaN   \n",
       "929   This is Milo. He's currently plotting his reve...                  NaN   \n",
       "339   Say hello to Smiley. He's a blind therapy dogg...                  NaN   \n",
       "1910  This is Jonah. He's a Stinted Fisher Price. En...                  NaN   \n",
       "2040  Interesting dog here. Very large. Purple. Mani...                  NaN   \n",
       "1253  Say hello to Sora. She's an Egyptian Pumpernic...                  NaN   \n",
       "1541  This is Lucy. She's terrified of the stuffed b...                  NaN   \n",
       "438   RT @dog_rates: This is Oliver. He has dreams o...         8.199522e+17   \n",
       "669   RT @dog_rates: This is Leela. She's a Fetty Wo...         7.626999e+17   \n",
       "1951  This is George. He's upset that the 4th of Jul...                  NaN   \n",
       "1904  Rare submerged pup here. Holds breath for a lo...                  NaN   \n",
       "593   This is Shadow. He's a firm believer that they...                  NaN   \n",
       "2297  Here is Dave. He is actually just a skinny leg...                  NaN   \n",
       "864   This is Buddy. His father was a bear and his m...                  NaN   \n",
       "535   RT @dog_rates: This is Cali. She arrived preas...         7.829691e+17   \n",
       "1309  Say hello to Cupcake. She's an Icelandic Dippe...                  NaN   \n",
       "295   This is Vincent. He's suave as h*ck. Will be y...                  NaN   \n",
       "1634  Two sneaky puppers were not initially seen, mo...                  NaN   \n",
       "1410  HAPPY V-DAY FROM YOUR FAV PUPPER SQUAD 13/10 f...                  NaN   \n",
       "2350  This is a truly beautiful English Wilson Staff...                  NaN   \n",
       "1249  What hooligan sent in pictures w/out a dog in ...                  NaN   \n",
       "1662  This is Darrel. He just robbed a 7/11 and is i...                  NaN   \n",
       "784   RT @dog_rates: After so many requests, this is...         7.403732e+17   \n",
       "555   RT @dog_rates: I present to you... Dog Jesus. ...         6.914169e+17   \n",
       "2252               OMIGOD 12/10 https://t.co/SVMF4Frf1w                  NaN   \n",
       "1511  I present to you... Dog Jesus. 13/10 (he could...                  NaN   \n",
       "4     This is Franklin. He would like you to stop ca...                  NaN   \n",
       "159   RT @dog_rates: Meet Lorenzo. He's an avid nift...         8.605638e+17   \n",
       "2184  Honor to rate this dog. Lots of fur on him. Tw...                  NaN   \n",
       "886   Here's a wicked fast pupper. 12/10 camera coul...                  NaN   \n",
       "\n",
       "      retweeted_status_user_id retweeted_status_timestamp  \\\n",
       "2008                       NaN                        NaN   \n",
       "929                        NaN                        NaN   \n",
       "339                        NaN                        NaN   \n",
       "1910                       NaN                        NaN   \n",
       "2040                       NaN                        NaN   \n",
       "1253                       NaN                        NaN   \n",
       "1541                       NaN                        NaN   \n",
       "438               4.196984e+09  2017-01-13 17:00:21 +0000   \n",
       "669               4.196984e+09  2016-08-08 17:19:51 +0000   \n",
       "1951                       NaN                        NaN   \n",
       "1904                       NaN                        NaN   \n",
       "593                        NaN                        NaN   \n",
       "2297                       NaN                        NaN   \n",
       "864                        NaN                        NaN   \n",
       "535               4.196984e+09  2016-10-03 15:42:44 +0000   \n",
       "1309                       NaN                        NaN   \n",
       "295                        NaN                        NaN   \n",
       "1634                       NaN                        NaN   \n",
       "1410                       NaN                        NaN   \n",
       "2350                       NaN                        NaN   \n",
       "1249                       NaN                        NaN   \n",
       "1662                       NaN                        NaN   \n",
       "784               4.196984e+09  2016-06-08 02:41:38 +0000   \n",
       "555               4.196984e+09  2016-01-25 00:26:41 +0000   \n",
       "2252                       NaN                        NaN   \n",
       "1511                       NaN                        NaN   \n",
       "4                          NaN                        NaN   \n",
       "159               4.196984e+09  2017-05-05 18:36:06 +0000   \n",
       "2184                       NaN                        NaN   \n",
       "886                        NaN                        NaN   \n",
       "\n",
       "                                          expanded_urls  rating_numerator  \\\n",
       "2008  https://twitter.com/dog_rates/status/672256522...                 8   \n",
       "929   https://twitter.com/dog_rates/status/754482103...                10   \n",
       "339   https://twitter.com/dog_rates/status/832273440...                14   \n",
       "1910  https://twitter.com/dog_rates/status/674416750...                10   \n",
       "2040  https://twitter.com/dog_rates/status/671544874...                 6   \n",
       "1253  https://twitter.com/dog_rates/status/710833117...                12   \n",
       "1541  https://twitter.com/dog_rates/status/689623661...                10   \n",
       "438   https://www.gofundme.com/servicedogoliver,http...                13   \n",
       "669   https://twitter.com/dog_rates/status/762699858...                11   \n",
       "1951  https://twitter.com/dog_rates/status/673686845...                11   \n",
       "1904  https://twitter.com/dog_rates/status/674632714...                 5   \n",
       "593   https://twitter.com/dog_rates/status/798925684...                11   \n",
       "2297  https://twitter.com/dog_rates/status/667073648...                10   \n",
       "864   https://twitter.com/dog_rates/status/762464539...                12   \n",
       "535   https://twitter.com/dog_rates/status/782969140...                12   \n",
       "1309  https://twitter.com/dog_rates/status/707059547...                11   \n",
       "295   https://twitter.com/dog_rates/status/837471256...                12   \n",
       "1634  https://twitter.com/dog_rates/status/684225744...               143   \n",
       "1410  https://twitter.com/dog_rates/status/699036661...                13   \n",
       "2350  https://twitter.com/dog_rates/status/666050758...                10   \n",
       "1249  https://twitter.com/dog_rates/status/711306686...                 3   \n",
       "1662  https://twitter.com/dog_rates/status/682962037...                 7   \n",
       "784   https://twitter.com/dog_rates/status/740373189...                 9   \n",
       "555   https://twitter.com/dog_rates/status/691416866...                13   \n",
       "2252  https://twitter.com/dog_rates/status/667801013...                12   \n",
       "1511  https://twitter.com/dog_rates/status/691416866...                13   \n",
       "4     https://twitter.com/dog_rates/status/891327558...                12   \n",
       "159   https://www.gofundme.com/help-lorenzo-beat-can...                13   \n",
       "2184  https://twitter.com/dog_rates/status/668988183...                 7   \n",
       "886                       https://vine.co/v/5AJm5pq7Kav                12   \n",
       "\n",
       "      rating_denominator      name  doggo floofer  pupper  puppo  \n",
       "2008                  10      None   None    None    None   None  \n",
       "929                   10      Milo   None    None    None   None  \n",
       "339                   10    Smiley  doggo    None    None   None  \n",
       "1910                  10     Jonah   None    None    None   None  \n",
       "2040                  10      None   None    None    None   None  \n",
       "1253                  10      Sora   None    None    None   None  \n",
       "1541                  10      Lucy   None    None  pupper   None  \n",
       "438                   10    Oliver   None    None    None  puppo  \n",
       "669                   10     Leela   None    None    None   None  \n",
       "1951                  10    George   None    None    None   None  \n",
       "1904                  10      None   None    None    None   None  \n",
       "593                   10    Shadow   None    None    None   None  \n",
       "2297                  10      Dave   None    None    None   None  \n",
       "864                   10     Buddy   None    None    None   None  \n",
       "535                   10      Cali   None    None    None   None  \n",
       "1309                  10   Cupcake   None    None    None   None  \n",
       "295                   10   Vincent   None    None    None   None  \n",
       "1634                 130      None   None    None    None   None  \n",
       "1410                  10      None   None    None  pupper   None  \n",
       "2350                  10         a   None    None    None   None  \n",
       "1249                  10      None   None    None    None   None  \n",
       "1662                  11    Darrel   None    None    None   None  \n",
       "784                   11      None   None    None    None   None  \n",
       "555                   10      None   None    None    None   None  \n",
       "2252                  10      None   None    None    None   None  \n",
       "1511                  10      None   None    None    None   None  \n",
       "4                     10  Franklin   None    None    None   None  \n",
       "159                   10   Lorenzo   None    None    None   None  \n",
       "2184                  10      None   None    None    None   None  \n",
       "886                   10      None   None    None  pupper   None  "
      ]
     },
     "execution_count": 12,
     "metadata": {},
     "output_type": "execute_result"
    }
   ],
   "source": [
    "# Look at random sample\n",
    "twitter_archive.sample(30)"
   ]
  },
  {
   "cell_type": "code",
   "execution_count": 13,
   "metadata": {
    "scrolled": false
   },
   "outputs": [
    {
     "data": {
      "text/plain": [
       "<a href=\"http://twitter.com/download/iphone\" rel=\"nofollow\">Twitter for iPhone</a>     2221\n",
       "<a href=\"http://vine.co\" rel=\"nofollow\">Vine - Make a Scene</a>                          91\n",
       "<a href=\"http://twitter.com\" rel=\"nofollow\">Twitter Web Client</a>                       33\n",
       "<a href=\"https://about.twitter.com/products/tweetdeck\" rel=\"nofollow\">TweetDeck</a>      11\n",
       "Name: source, dtype: int64"
      ]
     },
     "execution_count": 13,
     "metadata": {},
     "output_type": "execute_result"
    }
   ],
   "source": [
    "# Is this meaningful info?\n",
    "twitter_archive['source'].value_counts()"
   ]
  },
  {
   "cell_type": "code",
   "execution_count": 14,
   "metadata": {},
   "outputs": [
    {
     "data": {
      "text/plain": [
       "False    2356\n",
       "Name: tweet_id, dtype: int64"
      ]
     },
     "execution_count": 14,
     "metadata": {},
     "output_type": "execute_result"
    }
   ],
   "source": [
    "# Check to see duplicate tweet IDs\n",
    "twitter_archive['tweet_id'].duplicated().value_counts()"
   ]
  },
  {
   "cell_type": "code",
   "execution_count": 15,
   "metadata": {},
   "outputs": [
    {
     "data": {
      "text/plain": [
       "74      Terrance\n",
       "370         Mutt\n",
       "1730       Bruce\n",
       "2354           a\n",
       "926        Rubio\n",
       "609       Cassie\n",
       "112         None\n",
       "460         Dido\n",
       "1638        None\n",
       "2208        Maks\n",
       "Name: name, dtype: object"
      ]
     },
     "execution_count": 15,
     "metadata": {},
     "output_type": "execute_result"
    }
   ],
   "source": [
    "# Investigate 'name' column through random sample (which I run a few times)\n",
    "twitter_archive['name'].sample(10)"
   ]
  },
  {
   "cell_type": "code",
   "execution_count": 16,
   "metadata": {
    "scrolled": true
   },
   "outputs": [
    {
     "data": {
      "text/plain": [
       "None        745\n",
       "a            55\n",
       "Charlie      12\n",
       "Oliver       11\n",
       "Cooper       11\n",
       "Lucy         11\n",
       "Tucker       10\n",
       "Penny        10\n",
       "Lola         10\n",
       "Bo            9\n",
       "Winston       9\n",
       "the           8\n",
       "Sadie         8\n",
       "Daisy         7\n",
       "Buddy         7\n",
       "an            7\n",
       "Bailey        7\n",
       "Toby          7\n",
       "Bella         6\n",
       "Dave          6\n",
       "Milo          6\n",
       "Jax           6\n",
       "Scout         6\n",
       "Jack          6\n",
       "Stanley       6\n",
       "Leo           6\n",
       "Rusty         6\n",
       "Oscar         6\n",
       "Koda          6\n",
       "Phil          5\n",
       "           ... \n",
       "Yoda          1\n",
       "Gustav        1\n",
       "Rizzo         1\n",
       "Marty         1\n",
       "Mimosa        1\n",
       "Olaf          1\n",
       "Kramer        1\n",
       "Bluebert      1\n",
       "Dot           1\n",
       "Scott         1\n",
       "Jay           1\n",
       "Rascal        1\n",
       "Jarvis        1\n",
       "Luther        1\n",
       "Gunner        1\n",
       "General       1\n",
       "Koko          1\n",
       "Winifred      1\n",
       "Spencer       1\n",
       "Amber         1\n",
       "Ron           1\n",
       "Emanuel       1\n",
       "Kevon         1\n",
       "Holly         1\n",
       "Noah          1\n",
       "Goose         1\n",
       "Edgar         1\n",
       "Ashleigh      1\n",
       "Pluto         1\n",
       "Bones         1\n",
       "Name: name, Length: 957, dtype: int64"
      ]
     },
     "execution_count": 16,
     "metadata": {},
     "output_type": "execute_result"
    }
   ],
   "source": [
    "# Further investigate 'name' column\n",
    "twitter_archive['name'].value_counts()"
   ]
  },
  {
   "cell_type": "code",
   "execution_count": 17,
   "metadata": {},
   "outputs": [
    {
     "name": "stdout",
     "output_type": "stream",
     "text": [
      "such\n",
      "a\n",
      "quite\n",
      "quite\n",
      "quite\n",
      "not\n",
      "one\n",
      "incredibly\n",
      "a\n",
      "mad\n",
      "an\n",
      "very\n",
      "a\n",
      "very\n",
      "just\n",
      "my\n",
      "one\n",
      "not\n",
      "his\n",
      "one\n",
      "a\n",
      "a\n",
      "a\n",
      "an\n",
      "very\n",
      "actually\n",
      "a\n",
      "just\n",
      "getting\n",
      "mad\n",
      "very\n",
      "this\n",
      "unacceptable\n",
      "all\n",
      "a\n",
      "old\n",
      "a\n",
      "infuriating\n",
      "a\n",
      "a\n",
      "a\n",
      "an\n",
      "a\n",
      "a\n",
      "very\n",
      "getting\n",
      "just\n",
      "a\n",
      "the\n",
      "the\n",
      "actually\n",
      "by\n",
      "a\n",
      "officially\n",
      "a\n",
      "the\n",
      "the\n",
      "a\n",
      "a\n",
      "a\n",
      "a\n",
      "life\n",
      "a\n",
      "one\n",
      "a\n",
      "a\n",
      "a\n",
      "light\n",
      "just\n",
      "space\n",
      "a\n",
      "the\n",
      "a\n",
      "a\n",
      "a\n",
      "a\n",
      "a\n",
      "a\n",
      "a\n",
      "a\n",
      "a\n",
      "an\n",
      "a\n",
      "the\n",
      "a\n",
      "a\n",
      "a\n",
      "a\n",
      "a\n",
      "a\n",
      "a\n",
      "a\n",
      "a\n",
      "a\n",
      "a\n",
      "quite\n",
      "a\n",
      "an\n",
      "a\n",
      "an\n",
      "the\n",
      "the\n",
      "a\n",
      "a\n",
      "an\n",
      "a\n",
      "a\n",
      "a\n",
      "a\n"
     ]
    }
   ],
   "source": [
    "# Check for all lowercase values in 'name' column\n",
    "for c in twitter_archive.name:\n",
    "    if c.islower():\n",
    "         print(c)"
   ]
  },
  {
   "cell_type": "code",
   "execution_count": 18,
   "metadata": {},
   "outputs": [
    {
     "name": "stdout",
     "output_type": "stream",
     "text": [
      "O\n",
      "JD\n"
     ]
    }
   ],
   "source": [
    "# Check for all uppercase values in 'name' column\n",
    "for c in twitter_archive.name:\n",
    "    if c.isupper():\n",
    "         print(c)"
   ]
  },
  {
   "cell_type": "code",
   "execution_count": 19,
   "metadata": {
    "scrolled": true
   },
   "outputs": [
    {
     "data": {
      "text/plain": [
       "False    2356\n",
       "Name: tweet_id, dtype: int64"
      ]
     },
     "execution_count": 19,
     "metadata": {},
     "output_type": "execute_result"
    }
   ],
   "source": [
    "# Check for duplicates in 'tweet_id' column\n",
    "twitter_archive['tweet_id'].duplicated().value_counts()"
   ]
  },
  {
   "cell_type": "code",
   "execution_count": 20,
   "metadata": {},
   "outputs": [
    {
     "data": {
      "text/plain": [
       "False    2356\n",
       "Name: text, dtype: int64"
      ]
     },
     "execution_count": 20,
     "metadata": {},
     "output_type": "execute_result"
    }
   ],
   "source": [
    "# Check for duplicates in 'text' column\n",
    "twitter_archive['text'].duplicated().value_counts()"
   ]
  },
  {
   "cell_type": "code",
   "execution_count": 21,
   "metadata": {
    "scrolled": true
   },
   "outputs": [
    {
     "data": {
      "text/plain": [
       "10     2333\n",
       "11        3\n",
       "50        3\n",
       "80        2\n",
       "20        2\n",
       "2         1\n",
       "16        1\n",
       "40        1\n",
       "70        1\n",
       "15        1\n",
       "90        1\n",
       "110       1\n",
       "120       1\n",
       "130       1\n",
       "150       1\n",
       "170       1\n",
       "7         1\n",
       "0         1\n",
       "Name: rating_denominator, dtype: int64"
      ]
     },
     "execution_count": 21,
     "metadata": {},
     "output_type": "execute_result"
    }
   ],
   "source": [
    "# Check values for 'rating_denomintor' column\n",
    "twitter_archive['rating_denominator'].value_counts()"
   ]
  },
  {
   "cell_type": "code",
   "execution_count": 22,
   "metadata": {},
   "outputs": [
    {
     "data": {
      "text/plain": [
       "12      558\n",
       "11      464\n",
       "10      461\n",
       "13      351\n",
       "9       158\n",
       "8       102\n",
       "7        55\n",
       "14       54\n",
       "5        37\n",
       "6        32\n",
       "3        19\n",
       "4        17\n",
       "1         9\n",
       "2         9\n",
       "420       2\n",
       "0         2\n",
       "15        2\n",
       "75        2\n",
       "80        1\n",
       "20        1\n",
       "24        1\n",
       "26        1\n",
       "44        1\n",
       "50        1\n",
       "60        1\n",
       "165       1\n",
       "84        1\n",
       "88        1\n",
       "144       1\n",
       "182       1\n",
       "143       1\n",
       "666       1\n",
       "960       1\n",
       "1776      1\n",
       "17        1\n",
       "27        1\n",
       "45        1\n",
       "99        1\n",
       "121       1\n",
       "204       1\n",
       "Name: rating_numerator, dtype: int64"
      ]
     },
     "execution_count": 22,
     "metadata": {},
     "output_type": "execute_result"
    }
   ],
   "source": [
    "# Check values for 'rating_numerator' column\n",
    "twitter_archive['rating_numerator'].value_counts()"
   ]
  },
  {
   "cell_type": "code",
   "execution_count": 23,
   "metadata": {},
   "outputs": [
    {
     "data": {
      "text/plain": [
       "10     2333\n",
       "11        3\n",
       "50        3\n",
       "80        2\n",
       "20        2\n",
       "2         1\n",
       "16        1\n",
       "40        1\n",
       "70        1\n",
       "15        1\n",
       "90        1\n",
       "110       1\n",
       "120       1\n",
       "130       1\n",
       "150       1\n",
       "170       1\n",
       "7         1\n",
       "0         1\n",
       "Name: rating_denominator, dtype: int64"
      ]
     },
     "execution_count": 23,
     "metadata": {},
     "output_type": "execute_result"
    }
   ],
   "source": [
    "twitter_archive['rating_denominator'].value_counts()"
   ]
  },
  {
   "cell_type": "code",
   "execution_count": 24,
   "metadata": {},
   "outputs": [
    {
     "data": {
      "text/plain": [
       "12      558\n",
       "11      464\n",
       "10      461\n",
       "13      351\n",
       "9       158\n",
       "8       102\n",
       "7        55\n",
       "14       54\n",
       "5        37\n",
       "6        32\n",
       "3        19\n",
       "4        17\n",
       "1         9\n",
       "2         9\n",
       "420       2\n",
       "0         2\n",
       "15        2\n",
       "75        2\n",
       "80        1\n",
       "20        1\n",
       "24        1\n",
       "26        1\n",
       "44        1\n",
       "50        1\n",
       "60        1\n",
       "165       1\n",
       "84        1\n",
       "88        1\n",
       "144       1\n",
       "182       1\n",
       "143       1\n",
       "666       1\n",
       "960       1\n",
       "1776      1\n",
       "17        1\n",
       "27        1\n",
       "45        1\n",
       "99        1\n",
       "121       1\n",
       "204       1\n",
       "Name: rating_numerator, dtype: int64"
      ]
     },
     "execution_count": 24,
     "metadata": {},
     "output_type": "execute_result"
    }
   ],
   "source": [
    "twitter_archive['rating_numerator'].value_counts()"
   ]
  },
  {
   "cell_type": "code",
   "execution_count": 25,
   "metadata": {
    "scrolled": true
   },
   "outputs": [
    {
     "name": "stdout",
     "output_type": "stream",
     "text": [
      "<class 'pandas.core.frame.DataFrame'>\n",
      "Int64Index: 181 entries, 19 to 2260\n",
      "Data columns (total 17 columns):\n",
      "tweet_id                      181 non-null int64\n",
      "in_reply_to_status_id         0 non-null float64\n",
      "in_reply_to_user_id           0 non-null float64\n",
      "timestamp                     181 non-null object\n",
      "source                        181 non-null object\n",
      "text                          181 non-null object\n",
      "retweeted_status_id           181 non-null float64\n",
      "retweeted_status_user_id      181 non-null float64\n",
      "retweeted_status_timestamp    181 non-null object\n",
      "expanded_urls                 180 non-null object\n",
      "rating_numerator              181 non-null int64\n",
      "rating_denominator            181 non-null int64\n",
      "name                          181 non-null object\n",
      "doggo                         181 non-null object\n",
      "floofer                       181 non-null object\n",
      "pupper                        181 non-null object\n",
      "puppo                         181 non-null object\n",
      "dtypes: float64(4), int64(3), object(10)\n",
      "memory usage: 25.5+ KB\n"
     ]
    }
   ],
   "source": [
    "# Observe number of non-null values for 'retweeted_status_id'\n",
    "twitter_archive.loc[twitter_archive['retweeted_status_id'].notnull()].info()"
   ]
  },
  {
   "cell_type": "code",
   "execution_count": 26,
   "metadata": {},
   "outputs": [
    {
     "name": "stdout",
     "output_type": "stream",
     "text": [
      "<class 'pandas.core.frame.DataFrame'>\n",
      "Int64Index: 181 entries, 19 to 2260\n",
      "Data columns (total 17 columns):\n",
      "tweet_id                      181 non-null int64\n",
      "in_reply_to_status_id         0 non-null float64\n",
      "in_reply_to_user_id           0 non-null float64\n",
      "timestamp                     181 non-null object\n",
      "source                        181 non-null object\n",
      "text                          181 non-null object\n",
      "retweeted_status_id           181 non-null float64\n",
      "retweeted_status_user_id      181 non-null float64\n",
      "retweeted_status_timestamp    181 non-null object\n",
      "expanded_urls                 180 non-null object\n",
      "rating_numerator              181 non-null int64\n",
      "rating_denominator            181 non-null int64\n",
      "name                          181 non-null object\n",
      "doggo                         181 non-null object\n",
      "floofer                       181 non-null object\n",
      "pupper                        181 non-null object\n",
      "puppo                         181 non-null object\n",
      "dtypes: float64(4), int64(3), object(10)\n",
      "memory usage: 25.5+ KB\n"
     ]
    }
   ],
   "source": [
    "# Observe number of non-null values for 'retweeted_status_user_id'\n",
    "twitter_archive.loc[twitter_archive['retweeted_status_user_id'].notnull()].info()"
   ]
  },
  {
   "cell_type": "markdown",
   "metadata": {},
   "source": [
    "<h3>Predictions (Dataset 02 of 03)</h3>"
   ]
  },
  {
   "cell_type": "code",
   "execution_count": 27,
   "metadata": {
    "scrolled": false
   },
   "outputs": [
    {
     "name": "stdout",
     "output_type": "stream",
     "text": [
      "<class 'pandas.core.frame.DataFrame'>\n",
      "RangeIndex: 2075 entries, 0 to 2074\n",
      "Data columns (total 12 columns):\n",
      "tweet_id    2075 non-null int64\n",
      "jpg_url     2075 non-null object\n",
      "img_num     2075 non-null int64\n",
      "p1          2075 non-null object\n",
      "p1_conf     2075 non-null float64\n",
      "p1_dog      2075 non-null bool\n",
      "p2          2075 non-null object\n",
      "p2_conf     2075 non-null float64\n",
      "p2_dog      2075 non-null bool\n",
      "p3          2075 non-null object\n",
      "p3_conf     2075 non-null float64\n",
      "p3_dog      2075 non-null bool\n",
      "dtypes: bool(3), float64(3), int64(2), object(4)\n",
      "memory usage: 152.1+ KB\n"
     ]
    }
   ],
   "source": [
    "# Get idea of dataset\n",
    "predictions.info()"
   ]
  },
  {
   "cell_type": "code",
   "execution_count": 28,
   "metadata": {
    "scrolled": true
   },
   "outputs": [
    {
     "data": {
      "text/html": [
       "<div>\n",
       "<style scoped>\n",
       "    .dataframe tbody tr th:only-of-type {\n",
       "        vertical-align: middle;\n",
       "    }\n",
       "\n",
       "    .dataframe tbody tr th {\n",
       "        vertical-align: top;\n",
       "    }\n",
       "\n",
       "    .dataframe thead th {\n",
       "        text-align: right;\n",
       "    }\n",
       "</style>\n",
       "<table border=\"1\" class=\"dataframe\">\n",
       "  <thead>\n",
       "    <tr style=\"text-align: right;\">\n",
       "      <th></th>\n",
       "      <th>tweet_id</th>\n",
       "      <th>jpg_url</th>\n",
       "      <th>img_num</th>\n",
       "      <th>p1</th>\n",
       "      <th>p1_conf</th>\n",
       "      <th>p1_dog</th>\n",
       "      <th>p2</th>\n",
       "      <th>p2_conf</th>\n",
       "      <th>p2_dog</th>\n",
       "      <th>p3</th>\n",
       "      <th>p3_conf</th>\n",
       "      <th>p3_dog</th>\n",
       "    </tr>\n",
       "  </thead>\n",
       "  <tbody>\n",
       "    <tr>\n",
       "      <th>829</th>\n",
       "      <td>693622659251335168</td>\n",
       "      <td>https://pbs.twimg.com/media/CaA-IR9VIAAqg5l.jpg</td>\n",
       "      <td>1</td>\n",
       "      <td>malamute</td>\n",
       "      <td>0.449298</td>\n",
       "      <td>True</td>\n",
       "      <td>Siberian_husky</td>\n",
       "      <td>0.385075</td>\n",
       "      <td>True</td>\n",
       "      <td>Eskimo_dog</td>\n",
       "      <td>0.163485</td>\n",
       "      <td>True</td>\n",
       "    </tr>\n",
       "    <tr>\n",
       "      <th>1970</th>\n",
       "      <td>868880397819494401</td>\n",
       "      <td>https://pbs.twimg.com/media/DA7iHL5U0AA1OQo.jpg</td>\n",
       "      <td>1</td>\n",
       "      <td>laptop</td>\n",
       "      <td>0.153718</td>\n",
       "      <td>False</td>\n",
       "      <td>French_bulldog</td>\n",
       "      <td>0.099984</td>\n",
       "      <td>True</td>\n",
       "      <td>printer</td>\n",
       "      <td>0.077130</td>\n",
       "      <td>False</td>\n",
       "    </tr>\n",
       "    <tr>\n",
       "      <th>1608</th>\n",
       "      <td>800751577355128832</td>\n",
       "      <td>https://pbs.twimg.com/media/CxzXOyBW8AEu_Oi.jpg</td>\n",
       "      <td>2</td>\n",
       "      <td>cocker_spaniel</td>\n",
       "      <td>0.771984</td>\n",
       "      <td>True</td>\n",
       "      <td>miniature_poodle</td>\n",
       "      <td>0.076653</td>\n",
       "      <td>True</td>\n",
       "      <td>toy_poodle</td>\n",
       "      <td>0.039618</td>\n",
       "      <td>True</td>\n",
       "    </tr>\n",
       "    <tr>\n",
       "      <th>622</th>\n",
       "      <td>680497766108381184</td>\n",
       "      <td>https://pbs.twimg.com/media/CXGdG0aWcAEbOO1.jpg</td>\n",
       "      <td>1</td>\n",
       "      <td>Chihuahua</td>\n",
       "      <td>0.538354</td>\n",
       "      <td>True</td>\n",
       "      <td>muzzle</td>\n",
       "      <td>0.084289</td>\n",
       "      <td>False</td>\n",
       "      <td>ski_mask</td>\n",
       "      <td>0.076690</td>\n",
       "      <td>False</td>\n",
       "    </tr>\n",
       "    <tr>\n",
       "      <th>913</th>\n",
       "      <td>700864154249383937</td>\n",
       "      <td>https://pbs.twimg.com/media/Cbn4OqKWwAADGWt.jpg</td>\n",
       "      <td>1</td>\n",
       "      <td>kuvasz</td>\n",
       "      <td>0.805857</td>\n",
       "      <td>True</td>\n",
       "      <td>Great_Pyrenees</td>\n",
       "      <td>0.187272</td>\n",
       "      <td>True</td>\n",
       "      <td>Samoyed</td>\n",
       "      <td>0.003491</td>\n",
       "      <td>True</td>\n",
       "    </tr>\n",
       "    <tr>\n",
       "      <th>1311</th>\n",
       "      <td>754449512966619136</td>\n",
       "      <td>https://pbs.twimg.com/media/CnhXzpvW8AAQ1MB.jpg</td>\n",
       "      <td>1</td>\n",
       "      <td>beagle</td>\n",
       "      <td>0.858513</td>\n",
       "      <td>True</td>\n",
       "      <td>basset</td>\n",
       "      <td>0.076012</td>\n",
       "      <td>True</td>\n",
       "      <td>English_foxhound</td>\n",
       "      <td>0.016246</td>\n",
       "      <td>True</td>\n",
       "    </tr>\n",
       "    <tr>\n",
       "      <th>433</th>\n",
       "      <td>674318007229923329</td>\n",
       "      <td>https://pbs.twimg.com/media/CVuopr8WwAExw_T.jpg</td>\n",
       "      <td>1</td>\n",
       "      <td>porcupine</td>\n",
       "      <td>0.846628</td>\n",
       "      <td>False</td>\n",
       "      <td>hamster</td>\n",
       "      <td>0.038136</td>\n",
       "      <td>False</td>\n",
       "      <td>echidna</td>\n",
       "      <td>0.014680</td>\n",
       "      <td>False</td>\n",
       "    </tr>\n",
       "    <tr>\n",
       "      <th>1905</th>\n",
       "      <td>852226086759018497</td>\n",
       "      <td>https://pbs.twimg.com/ext_tw_video_thumb/85222...</td>\n",
       "      <td>1</td>\n",
       "      <td>prison</td>\n",
       "      <td>0.352793</td>\n",
       "      <td>False</td>\n",
       "      <td>dishwasher</td>\n",
       "      <td>0.110723</td>\n",
       "      <td>False</td>\n",
       "      <td>file</td>\n",
       "      <td>0.094112</td>\n",
       "      <td>False</td>\n",
       "    </tr>\n",
       "    <tr>\n",
       "      <th>1497</th>\n",
       "      <td>783466772167098368</td>\n",
       "      <td>https://pbs.twimg.com/media/Ct9u3ljW8AEnVIm.jpg</td>\n",
       "      <td>1</td>\n",
       "      <td>Chihuahua</td>\n",
       "      <td>0.789000</td>\n",
       "      <td>True</td>\n",
       "      <td>miniature_pinscher</td>\n",
       "      <td>0.115916</td>\n",
       "      <td>True</td>\n",
       "      <td>toy_terrier</td>\n",
       "      <td>0.036294</td>\n",
       "      <td>True</td>\n",
       "    </tr>\n",
       "    <tr>\n",
       "      <th>327</th>\n",
       "      <td>671896809300709376</td>\n",
       "      <td>https://pbs.twimg.com/media/CVMOlMiWwAA4Yxl.jpg</td>\n",
       "      <td>1</td>\n",
       "      <td>chow</td>\n",
       "      <td>0.243529</td>\n",
       "      <td>True</td>\n",
       "      <td>hamster</td>\n",
       "      <td>0.227150</td>\n",
       "      <td>False</td>\n",
       "      <td>Pomeranian</td>\n",
       "      <td>0.056057</td>\n",
       "      <td>True</td>\n",
       "    </tr>\n",
       "    <tr>\n",
       "      <th>1946</th>\n",
       "      <td>862457590147678208</td>\n",
       "      <td>https://pbs.twimg.com/media/C_gQmaTUMAAPYSS.jpg</td>\n",
       "      <td>1</td>\n",
       "      <td>home_theater</td>\n",
       "      <td>0.496348</td>\n",
       "      <td>False</td>\n",
       "      <td>studio_couch</td>\n",
       "      <td>0.167256</td>\n",
       "      <td>False</td>\n",
       "      <td>barber_chair</td>\n",
       "      <td>0.052625</td>\n",
       "      <td>False</td>\n",
       "    </tr>\n",
       "    <tr>\n",
       "      <th>1955</th>\n",
       "      <td>864279568663928832</td>\n",
       "      <td>https://pbs.twimg.com/media/C_6JrWZVwAAHhCD.jpg</td>\n",
       "      <td>1</td>\n",
       "      <td>bull_mastiff</td>\n",
       "      <td>0.668613</td>\n",
       "      <td>True</td>\n",
       "      <td>French_bulldog</td>\n",
       "      <td>0.180562</td>\n",
       "      <td>True</td>\n",
       "      <td>Staffordshire_bullterrier</td>\n",
       "      <td>0.052237</td>\n",
       "      <td>True</td>\n",
       "    </tr>\n",
       "    <tr>\n",
       "      <th>1740</th>\n",
       "      <td>822489057087389700</td>\n",
       "      <td>https://pbs.twimg.com/media/C2oRbOuWEAAbVSl.jpg</td>\n",
       "      <td>1</td>\n",
       "      <td>Samoyed</td>\n",
       "      <td>0.416769</td>\n",
       "      <td>True</td>\n",
       "      <td>malamute</td>\n",
       "      <td>0.252706</td>\n",
       "      <td>True</td>\n",
       "      <td>kuvasz</td>\n",
       "      <td>0.157028</td>\n",
       "      <td>True</td>\n",
       "    </tr>\n",
       "    <tr>\n",
       "      <th>258</th>\n",
       "      <td>670780561024270336</td>\n",
       "      <td>https://pbs.twimg.com/media/CU8XW2dWwAA-Lmc.jpg</td>\n",
       "      <td>1</td>\n",
       "      <td>Labrador_retriever</td>\n",
       "      <td>0.244889</td>\n",
       "      <td>True</td>\n",
       "      <td>American_black_bear</td>\n",
       "      <td>0.056994</td>\n",
       "      <td>False</td>\n",
       "      <td>brown_bear</td>\n",
       "      <td>0.053993</td>\n",
       "      <td>False</td>\n",
       "    </tr>\n",
       "    <tr>\n",
       "      <th>188</th>\n",
       "      <td>669371483794317312</td>\n",
       "      <td>https://pbs.twimg.com/media/CUoVz8rU8AAfW-c.jpg</td>\n",
       "      <td>1</td>\n",
       "      <td>Brabancon_griffon</td>\n",
       "      <td>0.483268</td>\n",
       "      <td>True</td>\n",
       "      <td>miniature_pinscher</td>\n",
       "      <td>0.307465</td>\n",
       "      <td>True</td>\n",
       "      <td>redbone</td>\n",
       "      <td>0.070524</td>\n",
       "      <td>True</td>\n",
       "    </tr>\n",
       "    <tr>\n",
       "      <th>1899</th>\n",
       "      <td>851224888060895234</td>\n",
       "      <td>https://pbs.twimg.com/media/C9AohFoWsAUmxDs.jpg</td>\n",
       "      <td>3</td>\n",
       "      <td>car_mirror</td>\n",
       "      <td>0.971512</td>\n",
       "      <td>False</td>\n",
       "      <td>seat_belt</td>\n",
       "      <td>0.007063</td>\n",
       "      <td>False</td>\n",
       "      <td>standard_poodle</td>\n",
       "      <td>0.005683</td>\n",
       "      <td>True</td>\n",
       "    </tr>\n",
       "    <tr>\n",
       "      <th>784</th>\n",
       "      <td>690021994562220032</td>\n",
       "      <td>https://pbs.twimg.com/media/CZNzV6cW0AAsX7p.jpg</td>\n",
       "      <td>1</td>\n",
       "      <td>badger</td>\n",
       "      <td>0.289550</td>\n",
       "      <td>False</td>\n",
       "      <td>weasel</td>\n",
       "      <td>0.099140</td>\n",
       "      <td>False</td>\n",
       "      <td>malamute</td>\n",
       "      <td>0.040696</td>\n",
       "      <td>True</td>\n",
       "    </tr>\n",
       "    <tr>\n",
       "      <th>537</th>\n",
       "      <td>676948236477857792</td>\n",
       "      <td>https://pbs.twimg.com/media/CWUA1GFW4AAowiq.jpg</td>\n",
       "      <td>1</td>\n",
       "      <td>guenon</td>\n",
       "      <td>0.611603</td>\n",
       "      <td>False</td>\n",
       "      <td>macaque</td>\n",
       "      <td>0.135176</td>\n",
       "      <td>False</td>\n",
       "      <td>squirrel_monkey</td>\n",
       "      <td>0.083247</td>\n",
       "      <td>False</td>\n",
       "    </tr>\n",
       "    <tr>\n",
       "      <th>1797</th>\n",
       "      <td>831552930092285952</td>\n",
       "      <td>https://pbs.twimg.com/media/C4pE-I0WQAABveu.jpg</td>\n",
       "      <td>1</td>\n",
       "      <td>Chihuahua</td>\n",
       "      <td>0.257415</td>\n",
       "      <td>True</td>\n",
       "      <td>Pembroke</td>\n",
       "      <td>0.161442</td>\n",
       "      <td>True</td>\n",
       "      <td>French_bulldog</td>\n",
       "      <td>0.092143</td>\n",
       "      <td>True</td>\n",
       "    </tr>\n",
       "    <tr>\n",
       "      <th>900</th>\n",
       "      <td>699801817392291840</td>\n",
       "      <td>https://pbs.twimg.com/media/CbYyCMcWIAAHHjF.jpg</td>\n",
       "      <td>2</td>\n",
       "      <td>golden_retriever</td>\n",
       "      <td>0.808978</td>\n",
       "      <td>True</td>\n",
       "      <td>Irish_setter</td>\n",
       "      <td>0.042428</td>\n",
       "      <td>True</td>\n",
       "      <td>Labrador_retriever</td>\n",
       "      <td>0.023536</td>\n",
       "      <td>True</td>\n",
       "    </tr>\n",
       "    <tr>\n",
       "      <th>1239</th>\n",
       "      <td>746872823977771008</td>\n",
       "      <td>https://pbs.twimg.com/media/Cl1s1p7WMAA44Vk.jpg</td>\n",
       "      <td>1</td>\n",
       "      <td>Pembroke</td>\n",
       "      <td>0.540201</td>\n",
       "      <td>True</td>\n",
       "      <td>beagle</td>\n",
       "      <td>0.207835</td>\n",
       "      <td>True</td>\n",
       "      <td>Italian_greyhound</td>\n",
       "      <td>0.043565</td>\n",
       "      <td>True</td>\n",
       "    </tr>\n",
       "    <tr>\n",
       "      <th>388</th>\n",
       "      <td>673355879178194945</td>\n",
       "      <td>https://pbs.twimg.com/media/CVg9mTYWIAAu7J6.jpg</td>\n",
       "      <td>1</td>\n",
       "      <td>Rottweiler</td>\n",
       "      <td>0.529248</td>\n",
       "      <td>True</td>\n",
       "      <td>miniature_pinscher</td>\n",
       "      <td>0.168296</td>\n",
       "      <td>True</td>\n",
       "      <td>Appenzeller</td>\n",
       "      <td>0.100452</td>\n",
       "      <td>True</td>\n",
       "    </tr>\n",
       "    <tr>\n",
       "      <th>271</th>\n",
       "      <td>670823764196741120</td>\n",
       "      <td>https://pbs.twimg.com/media/CU8-puBWwAAR8Xl.jpg</td>\n",
       "      <td>1</td>\n",
       "      <td>Labrador_retriever</td>\n",
       "      <td>0.947453</td>\n",
       "      <td>True</td>\n",
       "      <td>German_short-haired_pointer</td>\n",
       "      <td>0.017001</td>\n",
       "      <td>True</td>\n",
       "      <td>Weimaraner</td>\n",
       "      <td>0.015432</td>\n",
       "      <td>True</td>\n",
       "    </tr>\n",
       "    <tr>\n",
       "      <th>194</th>\n",
       "      <td>669573570759163904</td>\n",
       "      <td>https://pbs.twimg.com/media/CUrNmtFWoAAnWCD.jpg</td>\n",
       "      <td>1</td>\n",
       "      <td>West_Highland_white_terrier</td>\n",
       "      <td>0.946828</td>\n",
       "      <td>True</td>\n",
       "      <td>miniature_schnauzer</td>\n",
       "      <td>0.022344</td>\n",
       "      <td>True</td>\n",
       "      <td>cairn</td>\n",
       "      <td>0.009462</td>\n",
       "      <td>True</td>\n",
       "    </tr>\n",
       "    <tr>\n",
       "      <th>1960</th>\n",
       "      <td>866334964761202691</td>\n",
       "      <td>https://pbs.twimg.com/media/DAXXDQNXgAAoYQH.jpg</td>\n",
       "      <td>1</td>\n",
       "      <td>Samoyed</td>\n",
       "      <td>0.984086</td>\n",
       "      <td>True</td>\n",
       "      <td>Pomeranian</td>\n",
       "      <td>0.007919</td>\n",
       "      <td>True</td>\n",
       "      <td>keeshond</td>\n",
       "      <td>0.003328</td>\n",
       "      <td>True</td>\n",
       "    </tr>\n",
       "    <tr>\n",
       "      <th>7</th>\n",
       "      <td>666055525042405380</td>\n",
       "      <td>https://pbs.twimg.com/media/CT5N9tpXIAAifs1.jpg</td>\n",
       "      <td>1</td>\n",
       "      <td>chow</td>\n",
       "      <td>0.692517</td>\n",
       "      <td>True</td>\n",
       "      <td>Tibetan_mastiff</td>\n",
       "      <td>0.058279</td>\n",
       "      <td>True</td>\n",
       "      <td>fur_coat</td>\n",
       "      <td>0.054449</td>\n",
       "      <td>False</td>\n",
       "    </tr>\n",
       "    <tr>\n",
       "      <th>812</th>\n",
       "      <td>692530551048294401</td>\n",
       "      <td>https://pbs.twimg.com/media/CZxc3G7WEAAM4Mv.jpg</td>\n",
       "      <td>1</td>\n",
       "      <td>Siberian_husky</td>\n",
       "      <td>0.486428</td>\n",
       "      <td>True</td>\n",
       "      <td>Eskimo_dog</td>\n",
       "      <td>0.448518</td>\n",
       "      <td>True</td>\n",
       "      <td>white_wolf</td>\n",
       "      <td>0.041506</td>\n",
       "      <td>False</td>\n",
       "    </tr>\n",
       "    <tr>\n",
       "      <th>47</th>\n",
       "      <td>666817836334096384</td>\n",
       "      <td>https://pbs.twimg.com/media/CUEDSMEWEAAuXVZ.jpg</td>\n",
       "      <td>1</td>\n",
       "      <td>miniature_schnauzer</td>\n",
       "      <td>0.496953</td>\n",
       "      <td>True</td>\n",
       "      <td>standard_schnauzer</td>\n",
       "      <td>0.285276</td>\n",
       "      <td>True</td>\n",
       "      <td>giant_schnauzer</td>\n",
       "      <td>0.073764</td>\n",
       "      <td>True</td>\n",
       "    </tr>\n",
       "    <tr>\n",
       "      <th>32</th>\n",
       "      <td>666428276349472768</td>\n",
       "      <td>https://pbs.twimg.com/media/CT-g-0DUwAEQdSn.jpg</td>\n",
       "      <td>1</td>\n",
       "      <td>Pembroke</td>\n",
       "      <td>0.371361</td>\n",
       "      <td>True</td>\n",
       "      <td>chow</td>\n",
       "      <td>0.249394</td>\n",
       "      <td>True</td>\n",
       "      <td>Pomeranian</td>\n",
       "      <td>0.241878</td>\n",
       "      <td>True</td>\n",
       "    </tr>\n",
       "    <tr>\n",
       "      <th>330</th>\n",
       "      <td>672095186491711488</td>\n",
       "      <td>https://pbs.twimg.com/media/CVPDAR9XIAAm8QB.jpg</td>\n",
       "      <td>1</td>\n",
       "      <td>pug</td>\n",
       "      <td>0.794087</td>\n",
       "      <td>True</td>\n",
       "      <td>French_bulldog</td>\n",
       "      <td>0.140796</td>\n",
       "      <td>True</td>\n",
       "      <td>bull_mastiff</td>\n",
       "      <td>0.044681</td>\n",
       "      <td>True</td>\n",
       "    </tr>\n",
       "  </tbody>\n",
       "</table>\n",
       "</div>"
      ],
      "text/plain": [
       "                tweet_id                                            jpg_url  \\\n",
       "829   693622659251335168    https://pbs.twimg.com/media/CaA-IR9VIAAqg5l.jpg   \n",
       "1970  868880397819494401    https://pbs.twimg.com/media/DA7iHL5U0AA1OQo.jpg   \n",
       "1608  800751577355128832    https://pbs.twimg.com/media/CxzXOyBW8AEu_Oi.jpg   \n",
       "622   680497766108381184    https://pbs.twimg.com/media/CXGdG0aWcAEbOO1.jpg   \n",
       "913   700864154249383937    https://pbs.twimg.com/media/Cbn4OqKWwAADGWt.jpg   \n",
       "1311  754449512966619136    https://pbs.twimg.com/media/CnhXzpvW8AAQ1MB.jpg   \n",
       "433   674318007229923329    https://pbs.twimg.com/media/CVuopr8WwAExw_T.jpg   \n",
       "1905  852226086759018497  https://pbs.twimg.com/ext_tw_video_thumb/85222...   \n",
       "1497  783466772167098368    https://pbs.twimg.com/media/Ct9u3ljW8AEnVIm.jpg   \n",
       "327   671896809300709376    https://pbs.twimg.com/media/CVMOlMiWwAA4Yxl.jpg   \n",
       "1946  862457590147678208    https://pbs.twimg.com/media/C_gQmaTUMAAPYSS.jpg   \n",
       "1955  864279568663928832    https://pbs.twimg.com/media/C_6JrWZVwAAHhCD.jpg   \n",
       "1740  822489057087389700    https://pbs.twimg.com/media/C2oRbOuWEAAbVSl.jpg   \n",
       "258   670780561024270336    https://pbs.twimg.com/media/CU8XW2dWwAA-Lmc.jpg   \n",
       "188   669371483794317312    https://pbs.twimg.com/media/CUoVz8rU8AAfW-c.jpg   \n",
       "1899  851224888060895234    https://pbs.twimg.com/media/C9AohFoWsAUmxDs.jpg   \n",
       "784   690021994562220032    https://pbs.twimg.com/media/CZNzV6cW0AAsX7p.jpg   \n",
       "537   676948236477857792    https://pbs.twimg.com/media/CWUA1GFW4AAowiq.jpg   \n",
       "1797  831552930092285952    https://pbs.twimg.com/media/C4pE-I0WQAABveu.jpg   \n",
       "900   699801817392291840    https://pbs.twimg.com/media/CbYyCMcWIAAHHjF.jpg   \n",
       "1239  746872823977771008    https://pbs.twimg.com/media/Cl1s1p7WMAA44Vk.jpg   \n",
       "388   673355879178194945    https://pbs.twimg.com/media/CVg9mTYWIAAu7J6.jpg   \n",
       "271   670823764196741120    https://pbs.twimg.com/media/CU8-puBWwAAR8Xl.jpg   \n",
       "194   669573570759163904    https://pbs.twimg.com/media/CUrNmtFWoAAnWCD.jpg   \n",
       "1960  866334964761202691    https://pbs.twimg.com/media/DAXXDQNXgAAoYQH.jpg   \n",
       "7     666055525042405380    https://pbs.twimg.com/media/CT5N9tpXIAAifs1.jpg   \n",
       "812   692530551048294401    https://pbs.twimg.com/media/CZxc3G7WEAAM4Mv.jpg   \n",
       "47    666817836334096384    https://pbs.twimg.com/media/CUEDSMEWEAAuXVZ.jpg   \n",
       "32    666428276349472768    https://pbs.twimg.com/media/CT-g-0DUwAEQdSn.jpg   \n",
       "330   672095186491711488    https://pbs.twimg.com/media/CVPDAR9XIAAm8QB.jpg   \n",
       "\n",
       "      img_num                           p1   p1_conf  p1_dog  \\\n",
       "829         1                     malamute  0.449298    True   \n",
       "1970        1                       laptop  0.153718   False   \n",
       "1608        2               cocker_spaniel  0.771984    True   \n",
       "622         1                    Chihuahua  0.538354    True   \n",
       "913         1                       kuvasz  0.805857    True   \n",
       "1311        1                       beagle  0.858513    True   \n",
       "433         1                    porcupine  0.846628   False   \n",
       "1905        1                       prison  0.352793   False   \n",
       "1497        1                    Chihuahua  0.789000    True   \n",
       "327         1                         chow  0.243529    True   \n",
       "1946        1                 home_theater  0.496348   False   \n",
       "1955        1                 bull_mastiff  0.668613    True   \n",
       "1740        1                      Samoyed  0.416769    True   \n",
       "258         1           Labrador_retriever  0.244889    True   \n",
       "188         1            Brabancon_griffon  0.483268    True   \n",
       "1899        3                   car_mirror  0.971512   False   \n",
       "784         1                       badger  0.289550   False   \n",
       "537         1                       guenon  0.611603   False   \n",
       "1797        1                    Chihuahua  0.257415    True   \n",
       "900         2             golden_retriever  0.808978    True   \n",
       "1239        1                     Pembroke  0.540201    True   \n",
       "388         1                   Rottweiler  0.529248    True   \n",
       "271         1           Labrador_retriever  0.947453    True   \n",
       "194         1  West_Highland_white_terrier  0.946828    True   \n",
       "1960        1                      Samoyed  0.984086    True   \n",
       "7           1                         chow  0.692517    True   \n",
       "812         1               Siberian_husky  0.486428    True   \n",
       "47          1          miniature_schnauzer  0.496953    True   \n",
       "32          1                     Pembroke  0.371361    True   \n",
       "330         1                          pug  0.794087    True   \n",
       "\n",
       "                               p2   p2_conf  p2_dog  \\\n",
       "829                Siberian_husky  0.385075    True   \n",
       "1970               French_bulldog  0.099984    True   \n",
       "1608             miniature_poodle  0.076653    True   \n",
       "622                        muzzle  0.084289   False   \n",
       "913                Great_Pyrenees  0.187272    True   \n",
       "1311                       basset  0.076012    True   \n",
       "433                       hamster  0.038136   False   \n",
       "1905                   dishwasher  0.110723   False   \n",
       "1497           miniature_pinscher  0.115916    True   \n",
       "327                       hamster  0.227150   False   \n",
       "1946                 studio_couch  0.167256   False   \n",
       "1955               French_bulldog  0.180562    True   \n",
       "1740                     malamute  0.252706    True   \n",
       "258           American_black_bear  0.056994   False   \n",
       "188            miniature_pinscher  0.307465    True   \n",
       "1899                    seat_belt  0.007063   False   \n",
       "784                        weasel  0.099140   False   \n",
       "537                       macaque  0.135176   False   \n",
       "1797                     Pembroke  0.161442    True   \n",
       "900                  Irish_setter  0.042428    True   \n",
       "1239                       beagle  0.207835    True   \n",
       "388            miniature_pinscher  0.168296    True   \n",
       "271   German_short-haired_pointer  0.017001    True   \n",
       "194           miniature_schnauzer  0.022344    True   \n",
       "1960                   Pomeranian  0.007919    True   \n",
       "7                 Tibetan_mastiff  0.058279    True   \n",
       "812                    Eskimo_dog  0.448518    True   \n",
       "47             standard_schnauzer  0.285276    True   \n",
       "32                           chow  0.249394    True   \n",
       "330                French_bulldog  0.140796    True   \n",
       "\n",
       "                             p3   p3_conf  p3_dog  \n",
       "829                  Eskimo_dog  0.163485    True  \n",
       "1970                    printer  0.077130   False  \n",
       "1608                 toy_poodle  0.039618    True  \n",
       "622                    ski_mask  0.076690   False  \n",
       "913                     Samoyed  0.003491    True  \n",
       "1311           English_foxhound  0.016246    True  \n",
       "433                     echidna  0.014680   False  \n",
       "1905                       file  0.094112   False  \n",
       "1497                toy_terrier  0.036294    True  \n",
       "327                  Pomeranian  0.056057    True  \n",
       "1946               barber_chair  0.052625   False  \n",
       "1955  Staffordshire_bullterrier  0.052237    True  \n",
       "1740                     kuvasz  0.157028    True  \n",
       "258                  brown_bear  0.053993   False  \n",
       "188                     redbone  0.070524    True  \n",
       "1899            standard_poodle  0.005683    True  \n",
       "784                    malamute  0.040696    True  \n",
       "537             squirrel_monkey  0.083247   False  \n",
       "1797             French_bulldog  0.092143    True  \n",
       "900          Labrador_retriever  0.023536    True  \n",
       "1239          Italian_greyhound  0.043565    True  \n",
       "388                 Appenzeller  0.100452    True  \n",
       "271                  Weimaraner  0.015432    True  \n",
       "194                       cairn  0.009462    True  \n",
       "1960                   keeshond  0.003328    True  \n",
       "7                      fur_coat  0.054449   False  \n",
       "812                  white_wolf  0.041506   False  \n",
       "47              giant_schnauzer  0.073764    True  \n",
       "32                   Pomeranian  0.241878    True  \n",
       "330                bull_mastiff  0.044681    True  "
      ]
     },
     "execution_count": 28,
     "metadata": {},
     "output_type": "execute_result"
    }
   ],
   "source": [
    "# Look at 30 samples\n",
    "predictions.sample(30)"
   ]
  },
  {
   "cell_type": "code",
   "execution_count": 29,
   "metadata": {
    "scrolled": false
   },
   "outputs": [
    {
     "data": {
      "text/plain": [
       "False    2009\n",
       "True       66\n",
       "Name: jpg_url, dtype: int64"
      ]
     },
     "execution_count": 29,
     "metadata": {},
     "output_type": "execute_result"
    }
   ],
   "source": [
    "# Check for duplicates in 'jpg_url' column\n",
    "predictions['jpg_url'].duplicated().value_counts()"
   ]
  },
  {
   "cell_type": "code",
   "execution_count": 30,
   "metadata": {},
   "outputs": [
    {
     "data": {
      "text/plain": [
       "False    2075\n",
       "Name: tweet_id, dtype: int64"
      ]
     },
     "execution_count": 30,
     "metadata": {},
     "output_type": "execute_result"
    }
   ],
   "source": [
    "# Check for duplicates in 'tweet_id' column\n",
    "predictions['tweet_id'].duplicated().value_counts()"
   ]
  },
  {
   "cell_type": "code",
   "execution_count": 31,
   "metadata": {},
   "outputs": [
    {
     "data": {
      "text/html": [
       "<div>\n",
       "<style scoped>\n",
       "    .dataframe tbody tr th:only-of-type {\n",
       "        vertical-align: middle;\n",
       "    }\n",
       "\n",
       "    .dataframe tbody tr th {\n",
       "        vertical-align: top;\n",
       "    }\n",
       "\n",
       "    .dataframe thead th {\n",
       "        text-align: right;\n",
       "    }\n",
       "</style>\n",
       "<table border=\"1\" class=\"dataframe\">\n",
       "  <thead>\n",
       "    <tr style=\"text-align: right;\">\n",
       "      <th></th>\n",
       "      <th>tweet_id</th>\n",
       "      <th>img_num</th>\n",
       "      <th>p1_conf</th>\n",
       "      <th>p2_conf</th>\n",
       "      <th>p3_conf</th>\n",
       "    </tr>\n",
       "  </thead>\n",
       "  <tbody>\n",
       "    <tr>\n",
       "      <th>count</th>\n",
       "      <td>2.075000e+03</td>\n",
       "      <td>2075.000000</td>\n",
       "      <td>2075.000000</td>\n",
       "      <td>2.075000e+03</td>\n",
       "      <td>2.075000e+03</td>\n",
       "    </tr>\n",
       "    <tr>\n",
       "      <th>mean</th>\n",
       "      <td>7.384514e+17</td>\n",
       "      <td>1.203855</td>\n",
       "      <td>0.594548</td>\n",
       "      <td>1.345886e-01</td>\n",
       "      <td>6.032417e-02</td>\n",
       "    </tr>\n",
       "    <tr>\n",
       "      <th>std</th>\n",
       "      <td>6.785203e+16</td>\n",
       "      <td>0.561875</td>\n",
       "      <td>0.271174</td>\n",
       "      <td>1.006657e-01</td>\n",
       "      <td>5.090593e-02</td>\n",
       "    </tr>\n",
       "    <tr>\n",
       "      <th>min</th>\n",
       "      <td>6.660209e+17</td>\n",
       "      <td>1.000000</td>\n",
       "      <td>0.044333</td>\n",
       "      <td>1.011300e-08</td>\n",
       "      <td>1.740170e-10</td>\n",
       "    </tr>\n",
       "    <tr>\n",
       "      <th>25%</th>\n",
       "      <td>6.764835e+17</td>\n",
       "      <td>1.000000</td>\n",
       "      <td>0.364412</td>\n",
       "      <td>5.388625e-02</td>\n",
       "      <td>1.622240e-02</td>\n",
       "    </tr>\n",
       "    <tr>\n",
       "      <th>50%</th>\n",
       "      <td>7.119988e+17</td>\n",
       "      <td>1.000000</td>\n",
       "      <td>0.588230</td>\n",
       "      <td>1.181810e-01</td>\n",
       "      <td>4.944380e-02</td>\n",
       "    </tr>\n",
       "    <tr>\n",
       "      <th>75%</th>\n",
       "      <td>7.932034e+17</td>\n",
       "      <td>1.000000</td>\n",
       "      <td>0.843855</td>\n",
       "      <td>1.955655e-01</td>\n",
       "      <td>9.180755e-02</td>\n",
       "    </tr>\n",
       "    <tr>\n",
       "      <th>max</th>\n",
       "      <td>8.924206e+17</td>\n",
       "      <td>4.000000</td>\n",
       "      <td>1.000000</td>\n",
       "      <td>4.880140e-01</td>\n",
       "      <td>2.734190e-01</td>\n",
       "    </tr>\n",
       "  </tbody>\n",
       "</table>\n",
       "</div>"
      ],
      "text/plain": [
       "           tweet_id      img_num      p1_conf       p2_conf       p3_conf\n",
       "count  2.075000e+03  2075.000000  2075.000000  2.075000e+03  2.075000e+03\n",
       "mean   7.384514e+17     1.203855     0.594548  1.345886e-01  6.032417e-02\n",
       "std    6.785203e+16     0.561875     0.271174  1.006657e-01  5.090593e-02\n",
       "min    6.660209e+17     1.000000     0.044333  1.011300e-08  1.740170e-10\n",
       "25%    6.764835e+17     1.000000     0.364412  5.388625e-02  1.622240e-02\n",
       "50%    7.119988e+17     1.000000     0.588230  1.181810e-01  4.944380e-02\n",
       "75%    7.932034e+17     1.000000     0.843855  1.955655e-01  9.180755e-02\n",
       "max    8.924206e+17     4.000000     1.000000  4.880140e-01  2.734190e-01"
      ]
     },
     "execution_count": 31,
     "metadata": {},
     "output_type": "execute_result"
    }
   ],
   "source": [
    "# Check minimum and maximum of 'pf_conf', 'p2_conf', and 'p3_conf'\n",
    "predictions.describe()"
   ]
  },
  {
   "cell_type": "code",
   "execution_count": 32,
   "metadata": {
    "scrolled": true
   },
   "outputs": [
    {
     "data": {
      "text/plain": [
       "False    2009\n",
       "True       66\n",
       "Name: jpg_url, dtype: int64"
      ]
     },
     "execution_count": 32,
     "metadata": {},
     "output_type": "execute_result"
    }
   ],
   "source": [
    "predictions['jpg_url'].duplicated().value_counts()"
   ]
  },
  {
   "cell_type": "markdown",
   "metadata": {},
   "source": [
    "<h3>Twitter API (Dataset 03 of 03)</h3>"
   ]
  },
  {
   "cell_type": "code",
   "execution_count": 33,
   "metadata": {
    "scrolled": true
   },
   "outputs": [
    {
     "data": {
      "text/html": [
       "<div>\n",
       "<style scoped>\n",
       "    .dataframe tbody tr th:only-of-type {\n",
       "        vertical-align: middle;\n",
       "    }\n",
       "\n",
       "    .dataframe tbody tr th {\n",
       "        vertical-align: top;\n",
       "    }\n",
       "\n",
       "    .dataframe thead th {\n",
       "        text-align: right;\n",
       "    }\n",
       "</style>\n",
       "<table border=\"1\" class=\"dataframe\">\n",
       "  <thead>\n",
       "    <tr style=\"text-align: right;\">\n",
       "      <th></th>\n",
       "      <th>favorite_count</th>\n",
       "      <th>id</th>\n",
       "      <th>retweet_count</th>\n",
       "    </tr>\n",
       "  </thead>\n",
       "  <tbody>\n",
       "    <tr>\n",
       "      <th>1242</th>\n",
       "      <td>2227</td>\n",
       "      <td>710283270106132480</td>\n",
       "      <td>547</td>\n",
       "    </tr>\n",
       "    <tr>\n",
       "      <th>1407</th>\n",
       "      <td>1602</td>\n",
       "      <td>697995514407682048</td>\n",
       "      <td>354</td>\n",
       "    </tr>\n",
       "    <tr>\n",
       "      <th>2067</th>\n",
       "      <td>2001</td>\n",
       "      <td>670804601705242624</td>\n",
       "      <td>983</td>\n",
       "    </tr>\n",
       "    <tr>\n",
       "      <th>1888</th>\n",
       "      <td>6371</td>\n",
       "      <td>674468880899788800</td>\n",
       "      <td>2142</td>\n",
       "    </tr>\n",
       "    <tr>\n",
       "      <th>89</th>\n",
       "      <td>27359</td>\n",
       "      <td>874680097055178752</td>\n",
       "      <td>4568</td>\n",
       "    </tr>\n",
       "    <tr>\n",
       "      <th>1394</th>\n",
       "      <td>2719</td>\n",
       "      <td>699036661657767936</td>\n",
       "      <td>1271</td>\n",
       "    </tr>\n",
       "    <tr>\n",
       "      <th>359</th>\n",
       "      <td>38616</td>\n",
       "      <td>828708714936930305</td>\n",
       "      <td>12135</td>\n",
       "    </tr>\n",
       "    <tr>\n",
       "      <th>1687</th>\n",
       "      <td>1848</td>\n",
       "      <td>680889648562991104</td>\n",
       "      <td>391</td>\n",
       "    </tr>\n",
       "    <tr>\n",
       "      <th>1885</th>\n",
       "      <td>1720</td>\n",
       "      <td>674638615994089473</td>\n",
       "      <td>604</td>\n",
       "    </tr>\n",
       "    <tr>\n",
       "      <th>2172</th>\n",
       "      <td>715</td>\n",
       "      <td>668960084974809088</td>\n",
       "      <td>245</td>\n",
       "    </tr>\n",
       "  </tbody>\n",
       "</table>\n",
       "</div>"
      ],
      "text/plain": [
       "      favorite_count                  id  retweet_count\n",
       "1242            2227  710283270106132480            547\n",
       "1407            1602  697995514407682048            354\n",
       "2067            2001  670804601705242624            983\n",
       "1888            6371  674468880899788800           2142\n",
       "89             27359  874680097055178752           4568\n",
       "1394            2719  699036661657767936           1271\n",
       "359            38616  828708714936930305          12135\n",
       "1687            1848  680889648562991104            391\n",
       "1885            1720  674638615994089473            604\n",
       "2172             715  668960084974809088            245"
      ]
     },
     "execution_count": 33,
     "metadata": {},
     "output_type": "execute_result"
    }
   ],
   "source": [
    "# Get idea of dataset\n",
    "df_tweet_info.sample(10)"
   ]
  },
  {
   "cell_type": "code",
   "execution_count": 34,
   "metadata": {
    "scrolled": true
   },
   "outputs": [
    {
     "name": "stdout",
     "output_type": "stream",
     "text": [
      "<class 'pandas.core.frame.DataFrame'>\n",
      "RangeIndex: 2338 entries, 0 to 2337\n",
      "Data columns (total 3 columns):\n",
      "favorite_count    2338 non-null int64\n",
      "id                2338 non-null int64\n",
      "retweet_count     2338 non-null int64\n",
      "dtypes: int64(3)\n",
      "memory usage: 54.9 KB\n"
     ]
    }
   ],
   "source": [
    "df_tweet_info.info()"
   ]
  },
  {
   "cell_type": "code",
   "execution_count": 35,
   "metadata": {
    "scrolled": true
   },
   "outputs": [
    {
     "data": {
      "text/html": [
       "<div>\n",
       "<style scoped>\n",
       "    .dataframe tbody tr th:only-of-type {\n",
       "        vertical-align: middle;\n",
       "    }\n",
       "\n",
       "    .dataframe tbody tr th {\n",
       "        vertical-align: top;\n",
       "    }\n",
       "\n",
       "    .dataframe thead th {\n",
       "        text-align: right;\n",
       "    }\n",
       "</style>\n",
       "<table border=\"1\" class=\"dataframe\">\n",
       "  <thead>\n",
       "    <tr style=\"text-align: right;\">\n",
       "      <th></th>\n",
       "      <th>favorite_count</th>\n",
       "      <th>id</th>\n",
       "      <th>retweet_count</th>\n",
       "    </tr>\n",
       "  </thead>\n",
       "  <tbody>\n",
       "    <tr>\n",
       "      <th>count</th>\n",
       "      <td>2338.000000</td>\n",
       "      <td>2.338000e+03</td>\n",
       "      <td>2338.000000</td>\n",
       "    </tr>\n",
       "    <tr>\n",
       "      <th>mean</th>\n",
       "      <td>7952.514115</td>\n",
       "      <td>7.422202e+17</td>\n",
       "      <td>2925.777160</td>\n",
       "    </tr>\n",
       "    <tr>\n",
       "      <th>std</th>\n",
       "      <td>12325.166559</td>\n",
       "      <td>6.833829e+16</td>\n",
       "      <td>4932.141605</td>\n",
       "    </tr>\n",
       "    <tr>\n",
       "      <th>min</th>\n",
       "      <td>0.000000</td>\n",
       "      <td>6.660209e+17</td>\n",
       "      <td>0.000000</td>\n",
       "    </tr>\n",
       "    <tr>\n",
       "      <th>25%</th>\n",
       "      <td>1371.500000</td>\n",
       "      <td>6.783361e+17</td>\n",
       "      <td>587.250000</td>\n",
       "    </tr>\n",
       "    <tr>\n",
       "      <th>50%</th>\n",
       "      <td>3458.500000</td>\n",
       "      <td>7.186224e+17</td>\n",
       "      <td>1366.500000</td>\n",
       "    </tr>\n",
       "    <tr>\n",
       "      <th>75%</th>\n",
       "      <td>9733.000000</td>\n",
       "      <td>7.986971e+17</td>\n",
       "      <td>3408.750000</td>\n",
       "    </tr>\n",
       "    <tr>\n",
       "      <th>max</th>\n",
       "      <td>164186.000000</td>\n",
       "      <td>8.924206e+17</td>\n",
       "      <td>83581.000000</td>\n",
       "    </tr>\n",
       "  </tbody>\n",
       "</table>\n",
       "</div>"
      ],
      "text/plain": [
       "       favorite_count            id  retweet_count\n",
       "count     2338.000000  2.338000e+03    2338.000000\n",
       "mean      7952.514115  7.422202e+17    2925.777160\n",
       "std      12325.166559  6.833829e+16    4932.141605\n",
       "min          0.000000  6.660209e+17       0.000000\n",
       "25%       1371.500000  6.783361e+17     587.250000\n",
       "50%       3458.500000  7.186224e+17    1366.500000\n",
       "75%       9733.000000  7.986971e+17    3408.750000\n",
       "max     164186.000000  8.924206e+17   83581.000000"
      ]
     },
     "execution_count": 35,
     "metadata": {},
     "output_type": "execute_result"
    }
   ],
   "source": [
    "df_tweet_info.describe()"
   ]
  },
  {
   "cell_type": "markdown",
   "metadata": {},
   "source": [
    "<div align=\"center\"><h4>Assessment Conclusions</h4></div><br>\n",
    "\n",
    "After some assessments of the three datasets, I've noted the following which will be cleaned in the next stage. 'T' indicates a tidiness issue while 'Q' indicates a quality issue.<br><br>\n",
    "\n",
    "\n",
    "<ol>\n",
    "<b>twitter_archive dataset</b>\n",
    "<li>'name' values that are all lowercase are invalid entries (i.e. not dog names) <font color='orange'><b>Q</b></font></li>\n",
    "<li>there are retweets which is signified by values in 'retweeted_status_id' and 'reteweeted_status_user_id' <font color='orange'><b>Q</b></font></li>\n",
    "<li>columns 'retweeted_status_id', 'retweeted_status_user_id', and 'retweeted_status_timestamp' are not needed <font color='orange'><b>Q</b></font></li>\n",
    "<li>each dog stage exists in its own column <font color='orange'><b>Q</b></font></li>\n",
    "<li>rating is represented in two columns--'rating_numerator' and 'rating_denominator' <font color='blue'><b>T</b></font></li>\n",
    "<li>'timestamp' column values are strings <font color='orange'><b>Q</b></font></li>\n",
    "<li>'source' content is not useful as they are dead links <font color='orange'><b>Q</b></font></li><br>\n",
    "\n",
    "\n",
    "<b>predictions dataset</b>\n",
    "<li>values in columns 'p1', 'p2', and 'p3' don't have consistent format <font color='orange'><b>Q</b></font></li>\n",
    "<li>there are duplicates in the 'jpg_url' column <font color='blue'><b>T</b></font></li><br>\n",
    "\n",
    "<b>all datasets</b>\n",
    "<li>the column label for Tweet IDs should be the same across the three separate datasets <font color='orange'><b>Q</b></font></li>\n",
    "<li>There are three different datasets.  Some of the information can be contained in a single data frame. <font color='blue'><b>T</b></font></li>\n",
    "</ol>"
   ]
  },
  {
   "cell_type": "markdown",
   "metadata": {},
   "source": [
    "<div align=\"center\"><h1>Clean</h1></div>"
   ]
  },
  {
   "cell_type": "code",
   "execution_count": 36,
   "metadata": {},
   "outputs": [],
   "source": [
    "# Makecopy of datasets\n",
    "df1 = twitter_archive.copy()\n",
    "df2 = predictions.copy()\n",
    "df3 = df_tweet_info.copy()"
   ]
  },
  {
   "cell_type": "markdown",
   "metadata": {},
   "source": [
    "<br><h5>Define 01 of 11</h5>"
   ]
  },
  {
   "cell_type": "markdown",
   "metadata": {},
   "source": [
    "<b>Assessment</b>: In df1, the 'name' values that are all lowercase are invalid entries (i.e. not dog names).<br><b>Clean</b>: Remove lowercase values in 'name' column."
   ]
  },
  {
   "cell_type": "markdown",
   "metadata": {},
   "source": [
    "<h5>Code 01 of 11</h5>"
   ]
  },
  {
   "cell_type": "code",
   "execution_count": 37,
   "metadata": {
    "scrolled": true
   },
   "outputs": [
    {
     "name": "stdout",
     "output_type": "stream",
     "text": [
      "['such', 'a', 'quite', 'not', 'one', 'incredibly', 'mad', 'an', 'very', 'just', 'my', 'his', 'actually', 'getting', 'this', 'unacceptable', 'all', 'old', 'infuriating', 'the', 'by', 'officially', 'life', 'light', 'space']\n"
     ]
    }
   ],
   "source": [
    "notNames = []\n",
    "\n",
    "for c in df1.name:\n",
    "    if c.islower()and c not in notNames:\n",
    "        notNames.append(c)\n",
    "\n",
    "print(notNames)"
   ]
  },
  {
   "cell_type": "code",
   "execution_count": 38,
   "metadata": {},
   "outputs": [],
   "source": [
    "df1.name.replace(notNames, 'None', inplace = True)"
   ]
  },
  {
   "cell_type": "markdown",
   "metadata": {},
   "source": [
    "<h5>Test 01 of 11</h5>"
   ]
  },
  {
   "cell_type": "code",
   "execution_count": 39,
   "metadata": {},
   "outputs": [],
   "source": [
    "# Nothing prints when this code is run. So the lowercase entries are cleared.\n",
    "for c in df1.name:\n",
    "    if c.islower():\n",
    "         print(c)"
   ]
  },
  {
   "cell_type": "code",
   "execution_count": 40,
   "metadata": {},
   "outputs": [
    {
     "data": {
      "text/plain": [
       "787     Sprinkles\n",
       "1392         Eazy\n",
       "1554         None\n",
       "700        Mattie\n",
       "1074        Simba\n",
       "1076        Benji\n",
       "1484        Bodie\n",
       "2289     Clarence\n",
       "71         Snoopy\n",
       "319           Leo\n",
       "Name: name, dtype: object"
      ]
     },
     "execution_count": 40,
     "metadata": {},
     "output_type": "execute_result"
    }
   ],
   "source": [
    "# Sample from edited 'name' column and run a few times\n",
    "df1['name'].sample(10)"
   ]
  },
  {
   "cell_type": "markdown",
   "metadata": {},
   "source": [
    "<br><h5>Define 02 of 11</h5>"
   ]
  },
  {
   "cell_type": "markdown",
   "metadata": {},
   "source": [
    "<b>Assessment</b>: In df1, there are retweets which is signified by values in 'retweeted_status_id' and 'reteweeted_status_user_id'.\n",
    "<br><b>Clean</b>: If there is a non-null value in 'retweeted_status_id' or 'reteweeted_status_user_id', drop the row."
   ]
  },
  {
   "cell_type": "markdown",
   "metadata": {},
   "source": [
    "<h5>Code 02 of 11</h5>"
   ]
  },
  {
   "cell_type": "code",
   "execution_count": 41,
   "metadata": {},
   "outputs": [],
   "source": [
    "# Drop retweeted rows\n",
    "df1 = df1.loc[df1['retweeted_status_id'].isnull() | \n",
    "              df1['retweeted_status_user_id'].isnull() | \n",
    "              df1['retweeted_status_timestamp'].isnull()]"
   ]
  },
  {
   "cell_type": "markdown",
   "metadata": {},
   "source": [
    "<h5>Test 02 of 11</h5>"
   ]
  },
  {
   "cell_type": "code",
   "execution_count": 42,
   "metadata": {
    "scrolled": true
   },
   "outputs": [
    {
     "name": "stdout",
     "output_type": "stream",
     "text": [
      "<class 'pandas.core.frame.DataFrame'>\n",
      "Int64Index: 2175 entries, 0 to 2355\n",
      "Data columns (total 17 columns):\n",
      "tweet_id                      2175 non-null int64\n",
      "in_reply_to_status_id         78 non-null float64\n",
      "in_reply_to_user_id           78 non-null float64\n",
      "timestamp                     2175 non-null object\n",
      "source                        2175 non-null object\n",
      "text                          2175 non-null object\n",
      "retweeted_status_id           0 non-null float64\n",
      "retweeted_status_user_id      0 non-null float64\n",
      "retweeted_status_timestamp    0 non-null object\n",
      "expanded_urls                 2117 non-null object\n",
      "rating_numerator              2175 non-null int64\n",
      "rating_denominator            2175 non-null int64\n",
      "name                          2175 non-null object\n",
      "doggo                         2175 non-null object\n",
      "floofer                       2175 non-null object\n",
      "pupper                        2175 non-null object\n",
      "puppo                         2175 non-null object\n",
      "dtypes: float64(4), int64(3), object(10)\n",
      "memory usage: 305.9+ KB\n"
     ]
    }
   ],
   "source": [
    "df1.info()"
   ]
  },
  {
   "cell_type": "markdown",
   "metadata": {},
   "source": [
    "<br><h5>Define 03 of 11</h5>"
   ]
  },
  {
   "cell_type": "markdown",
   "metadata": {},
   "source": [
    "<b>Assessment</b>: In df1, columns 'retweeted_status_id', 'retweeted_status_user_id', and 'retweeted_status_timestamp' are not needed.\n",
    "<br><b>Clean</b>: Drop 'retweeted_status_id', 'retweeted_status_user_id', and 'retweeted_status_timestamp' columns. (To be done after removing retweeted rows)."
   ]
  },
  {
   "cell_type": "markdown",
   "metadata": {},
   "source": [
    "<h5>Code 03 of 11</h5>"
   ]
  },
  {
   "cell_type": "code",
   "execution_count": 43,
   "metadata": {},
   "outputs": [],
   "source": [
    "df1 = df1.drop(['retweeted_status_id', 'retweeted_status_user_id', 'retweeted_status_timestamp'], axis=1)"
   ]
  },
  {
   "cell_type": "markdown",
   "metadata": {},
   "source": [
    "<h5>Test 03 of 11</h5>"
   ]
  },
  {
   "cell_type": "code",
   "execution_count": 44,
   "metadata": {},
   "outputs": [
    {
     "data": {
      "text/plain": [
       "['tweet_id',\n",
       " 'in_reply_to_status_id',\n",
       " 'in_reply_to_user_id',\n",
       " 'timestamp',\n",
       " 'source',\n",
       " 'text',\n",
       " 'expanded_urls',\n",
       " 'rating_numerator',\n",
       " 'rating_denominator',\n",
       " 'name',\n",
       " 'doggo',\n",
       " 'floofer',\n",
       " 'pupper',\n",
       " 'puppo']"
      ]
     },
     "execution_count": 44,
     "metadata": {},
     "output_type": "execute_result"
    }
   ],
   "source": [
    "list(df1)"
   ]
  },
  {
   "cell_type": "markdown",
   "metadata": {},
   "source": [
    "<br><h5>Define 04 of 11</h5>"
   ]
  },
  {
   "cell_type": "markdown",
   "metadata": {},
   "source": [
    "<b>Assessment</b>: In df1, each dog stage exists in its own column.\n",
    "<br><b>Clean</b>: Create single column for all dog stages."
   ]
  },
  {
   "cell_type": "markdown",
   "metadata": {},
   "source": [
    "<h5>Code 04 of 11</h5>"
   ]
  },
  {
   "cell_type": "code",
   "execution_count": 45,
   "metadata": {},
   "outputs": [],
   "source": [
    "# Replace \"None\" with NaN in order to combine values\n",
    "df1.doggo.replace('None', np.nan, inplace= True)\n",
    "df1.floofer.replace('None', np.nan, inplace= True)\n",
    "df1.pupper.replace('None', np.nan, inplace= True)\n",
    "df1.puppo.replace('None', np.nan, inplace= True)\n",
    "\n",
    "# Create single column for all dog stages\n",
    "df1['stage'] = df1[['doggo','floofer','pupper','puppo']].apply(lambda x: None if x.isnull().all() else ', '.join(x.dropna()), axis=1)\n",
    "\n",
    "# Resource 01:\n",
    "# https://stackoverflow.com/questions/45976585/combine-pandas-string-columns-with-missing-values\n",
    "\n",
    "# Resource 02:\n",
    "# https://stackoverflow.com/questions/13331698/how-to-apply-a-function-to-two-columns-of-pandas-dataframe\n"
   ]
  },
  {
   "cell_type": "code",
   "execution_count": 46,
   "metadata": {},
   "outputs": [
    {
     "data": {
      "text/plain": [
       "pupper            224\n",
       "doggo              75\n",
       "puppo              24\n",
       "doggo, pupper      10\n",
       "floofer             9\n",
       "doggo, floofer      1\n",
       "doggo, puppo        1\n",
       "Name: stage, dtype: int64"
      ]
     },
     "execution_count": 46,
     "metadata": {},
     "output_type": "execute_result"
    }
   ],
   "source": [
    "# Check work\n",
    "df1['stage'].value_counts()"
   ]
  },
  {
   "cell_type": "code",
   "execution_count": 47,
   "metadata": {
    "scrolled": true
   },
   "outputs": [],
   "source": [
    "# Drop separate stages columns\n",
    "df1 = df1.drop(['doggo', 'floofer', 'pupper', 'puppo'], axis = 1)"
   ]
  },
  {
   "cell_type": "markdown",
   "metadata": {},
   "source": [
    "<h5>Test 04 of 11</h5>"
   ]
  },
  {
   "cell_type": "code",
   "execution_count": 48,
   "metadata": {
    "scrolled": true
   },
   "outputs": [
    {
     "data": {
      "text/plain": [
       "pupper            224\n",
       "doggo              75\n",
       "puppo              24\n",
       "doggo, pupper      10\n",
       "floofer             9\n",
       "doggo, floofer      1\n",
       "doggo, puppo        1\n",
       "Name: stage, dtype: int64"
      ]
     },
     "execution_count": 48,
     "metadata": {},
     "output_type": "execute_result"
    }
   ],
   "source": [
    "df1['stage'].value_counts()"
   ]
  },
  {
   "cell_type": "code",
   "execution_count": 49,
   "metadata": {},
   "outputs": [
    {
     "data": {
      "text/plain": [
       "True     1831\n",
       "False     344\n",
       "Name: stage, dtype: int64"
      ]
     },
     "execution_count": 49,
     "metadata": {},
     "output_type": "execute_result"
    }
   ],
   "source": [
    "df1.stage.isnull().value_counts()"
   ]
  },
  {
   "cell_type": "code",
   "execution_count": 50,
   "metadata": {},
   "outputs": [
    {
     "data": {
      "text/plain": [
       "['tweet_id',\n",
       " 'in_reply_to_status_id',\n",
       " 'in_reply_to_user_id',\n",
       " 'timestamp',\n",
       " 'source',\n",
       " 'text',\n",
       " 'expanded_urls',\n",
       " 'rating_numerator',\n",
       " 'rating_denominator',\n",
       " 'name',\n",
       " 'stage']"
      ]
     },
     "execution_count": 50,
     "metadata": {},
     "output_type": "execute_result"
    }
   ],
   "source": [
    "list(df1)"
   ]
  },
  {
   "cell_type": "markdown",
   "metadata": {},
   "source": [
    "<br><h5>Define 05 of 11</h5>"
   ]
  },
  {
   "cell_type": "markdown",
   "metadata": {},
   "source": [
    "<b>Assessment</b>: In df1, rating is represened in two columns--'rating_numerator' and 'rating_denominator'.\n",
    "<br><b>Clean</b>: Create a single column to represent rating.  Label it 'rating_given' which calculates the rating with the given numerators and denominators."
   ]
  },
  {
   "cell_type": "markdown",
   "metadata": {},
   "source": [
    "<br><h5>Code 05 of 11</h5>"
   ]
  },
  {
   "cell_type": "code",
   "execution_count": 51,
   "metadata": {},
   "outputs": [],
   "source": [
    "df1['rating_given'] = df1['rating_numerator'] / df1['rating_denominator']\n",
    "df1.drop(['rating_numerator', 'rating_denominator'], axis=1, inplace=True)"
   ]
  },
  {
   "cell_type": "markdown",
   "metadata": {},
   "source": [
    "<h5>Test 05 of 11</h5>"
   ]
  },
  {
   "cell_type": "code",
   "execution_count": 52,
   "metadata": {
    "scrolled": true
   },
   "outputs": [
    {
     "data": {
      "text/html": [
       "<div>\n",
       "<style scoped>\n",
       "    .dataframe tbody tr th:only-of-type {\n",
       "        vertical-align: middle;\n",
       "    }\n",
       "\n",
       "    .dataframe tbody tr th {\n",
       "        vertical-align: top;\n",
       "    }\n",
       "\n",
       "    .dataframe thead th {\n",
       "        text-align: right;\n",
       "    }\n",
       "</style>\n",
       "<table border=\"1\" class=\"dataframe\">\n",
       "  <thead>\n",
       "    <tr style=\"text-align: right;\">\n",
       "      <th></th>\n",
       "      <th>tweet_id</th>\n",
       "      <th>in_reply_to_status_id</th>\n",
       "      <th>in_reply_to_user_id</th>\n",
       "      <th>timestamp</th>\n",
       "      <th>source</th>\n",
       "      <th>text</th>\n",
       "      <th>expanded_urls</th>\n",
       "      <th>name</th>\n",
       "      <th>stage</th>\n",
       "      <th>rating_given</th>\n",
       "    </tr>\n",
       "  </thead>\n",
       "  <tbody>\n",
       "    <tr>\n",
       "      <th>0</th>\n",
       "      <td>892420643555336193</td>\n",
       "      <td>NaN</td>\n",
       "      <td>NaN</td>\n",
       "      <td>2017-08-01 16:23:56 +0000</td>\n",
       "      <td>&lt;a href=\"http://twitter.com/download/iphone\" r...</td>\n",
       "      <td>This is Phineas. He's a mystical boy. Only eve...</td>\n",
       "      <td>https://twitter.com/dog_rates/status/892420643...</td>\n",
       "      <td>Phineas</td>\n",
       "      <td>None</td>\n",
       "      <td>1.3</td>\n",
       "    </tr>\n",
       "    <tr>\n",
       "      <th>1</th>\n",
       "      <td>892177421306343426</td>\n",
       "      <td>NaN</td>\n",
       "      <td>NaN</td>\n",
       "      <td>2017-08-01 00:17:27 +0000</td>\n",
       "      <td>&lt;a href=\"http://twitter.com/download/iphone\" r...</td>\n",
       "      <td>This is Tilly. She's just checking pup on you....</td>\n",
       "      <td>https://twitter.com/dog_rates/status/892177421...</td>\n",
       "      <td>Tilly</td>\n",
       "      <td>None</td>\n",
       "      <td>1.3</td>\n",
       "    </tr>\n",
       "    <tr>\n",
       "      <th>2</th>\n",
       "      <td>891815181378084864</td>\n",
       "      <td>NaN</td>\n",
       "      <td>NaN</td>\n",
       "      <td>2017-07-31 00:18:03 +0000</td>\n",
       "      <td>&lt;a href=\"http://twitter.com/download/iphone\" r...</td>\n",
       "      <td>This is Archie. He is a rare Norwegian Pouncin...</td>\n",
       "      <td>https://twitter.com/dog_rates/status/891815181...</td>\n",
       "      <td>Archie</td>\n",
       "      <td>None</td>\n",
       "      <td>1.2</td>\n",
       "    </tr>\n",
       "    <tr>\n",
       "      <th>3</th>\n",
       "      <td>891689557279858688</td>\n",
       "      <td>NaN</td>\n",
       "      <td>NaN</td>\n",
       "      <td>2017-07-30 15:58:51 +0000</td>\n",
       "      <td>&lt;a href=\"http://twitter.com/download/iphone\" r...</td>\n",
       "      <td>This is Darla. She commenced a snooze mid meal...</td>\n",
       "      <td>https://twitter.com/dog_rates/status/891689557...</td>\n",
       "      <td>Darla</td>\n",
       "      <td>None</td>\n",
       "      <td>1.3</td>\n",
       "    </tr>\n",
       "    <tr>\n",
       "      <th>4</th>\n",
       "      <td>891327558926688256</td>\n",
       "      <td>NaN</td>\n",
       "      <td>NaN</td>\n",
       "      <td>2017-07-29 16:00:24 +0000</td>\n",
       "      <td>&lt;a href=\"http://twitter.com/download/iphone\" r...</td>\n",
       "      <td>This is Franklin. He would like you to stop ca...</td>\n",
       "      <td>https://twitter.com/dog_rates/status/891327558...</td>\n",
       "      <td>Franklin</td>\n",
       "      <td>None</td>\n",
       "      <td>1.2</td>\n",
       "    </tr>\n",
       "  </tbody>\n",
       "</table>\n",
       "</div>"
      ],
      "text/plain": [
       "             tweet_id  in_reply_to_status_id  in_reply_to_user_id  \\\n",
       "0  892420643555336193                    NaN                  NaN   \n",
       "1  892177421306343426                    NaN                  NaN   \n",
       "2  891815181378084864                    NaN                  NaN   \n",
       "3  891689557279858688                    NaN                  NaN   \n",
       "4  891327558926688256                    NaN                  NaN   \n",
       "\n",
       "                   timestamp  \\\n",
       "0  2017-08-01 16:23:56 +0000   \n",
       "1  2017-08-01 00:17:27 +0000   \n",
       "2  2017-07-31 00:18:03 +0000   \n",
       "3  2017-07-30 15:58:51 +0000   \n",
       "4  2017-07-29 16:00:24 +0000   \n",
       "\n",
       "                                              source  \\\n",
       "0  <a href=\"http://twitter.com/download/iphone\" r...   \n",
       "1  <a href=\"http://twitter.com/download/iphone\" r...   \n",
       "2  <a href=\"http://twitter.com/download/iphone\" r...   \n",
       "3  <a href=\"http://twitter.com/download/iphone\" r...   \n",
       "4  <a href=\"http://twitter.com/download/iphone\" r...   \n",
       "\n",
       "                                                text  \\\n",
       "0  This is Phineas. He's a mystical boy. Only eve...   \n",
       "1  This is Tilly. She's just checking pup on you....   \n",
       "2  This is Archie. He is a rare Norwegian Pouncin...   \n",
       "3  This is Darla. She commenced a snooze mid meal...   \n",
       "4  This is Franklin. He would like you to stop ca...   \n",
       "\n",
       "                                       expanded_urls      name stage  \\\n",
       "0  https://twitter.com/dog_rates/status/892420643...   Phineas  None   \n",
       "1  https://twitter.com/dog_rates/status/892177421...     Tilly  None   \n",
       "2  https://twitter.com/dog_rates/status/891815181...    Archie  None   \n",
       "3  https://twitter.com/dog_rates/status/891689557...     Darla  None   \n",
       "4  https://twitter.com/dog_rates/status/891327558...  Franklin  None   \n",
       "\n",
       "   rating_given  \n",
       "0           1.3  \n",
       "1           1.3  \n",
       "2           1.2  \n",
       "3           1.3  \n",
       "4           1.2  "
      ]
     },
     "execution_count": 52,
     "metadata": {},
     "output_type": "execute_result"
    }
   ],
   "source": [
    "df1.head()"
   ]
  },
  {
   "cell_type": "markdown",
   "metadata": {},
   "source": [
    "<br><h5>Define 06 of 11</h5>"
   ]
  },
  {
   "cell_type": "markdown",
   "metadata": {},
   "source": [
    "<b>Assessment</b>: In df1, 'timestamp' column values are strings.\n",
    "<br><b>Clean</b>: Change value of timestamp to datetime."
   ]
  },
  {
   "cell_type": "markdown",
   "metadata": {},
   "source": [
    "<h5>Code 06 of 11</h5>"
   ]
  },
  {
   "cell_type": "code",
   "execution_count": 53,
   "metadata": {},
   "outputs": [],
   "source": [
    "df1['timestamp'] = pd.to_datetime(df1['timestamp'], infer_datetime_format=True)"
   ]
  },
  {
   "cell_type": "markdown",
   "metadata": {},
   "source": [
    "<h5>Test 06 of 11</h5>"
   ]
  },
  {
   "cell_type": "code",
   "execution_count": 54,
   "metadata": {},
   "outputs": [
    {
     "data": {
      "text/plain": [
       "0   2017-08-01 16:23:56\n",
       "1   2017-08-01 00:17:27\n",
       "2   2017-07-31 00:18:03\n",
       "3   2017-07-30 15:58:51\n",
       "4   2017-07-29 16:00:24\n",
       "Name: timestamp, dtype: datetime64[ns]"
      ]
     },
     "execution_count": 54,
     "metadata": {},
     "output_type": "execute_result"
    }
   ],
   "source": [
    "df1['timestamp'].head()"
   ]
  },
  {
   "cell_type": "code",
   "execution_count": 55,
   "metadata": {},
   "outputs": [
    {
     "name": "stdout",
     "output_type": "stream",
     "text": [
      "<class 'pandas.core.frame.DataFrame'>\n",
      "Int64Index: 2175 entries, 0 to 2355\n",
      "Data columns (total 10 columns):\n",
      "tweet_id                 2175 non-null int64\n",
      "in_reply_to_status_id    78 non-null float64\n",
      "in_reply_to_user_id      78 non-null float64\n",
      "timestamp                2175 non-null datetime64[ns]\n",
      "source                   2175 non-null object\n",
      "text                     2175 non-null object\n",
      "expanded_urls            2117 non-null object\n",
      "name                     2175 non-null object\n",
      "stage                    344 non-null object\n",
      "rating_given             2175 non-null float64\n",
      "dtypes: datetime64[ns](1), float64(3), int64(1), object(5)\n",
      "memory usage: 186.9+ KB\n"
     ]
    }
   ],
   "source": [
    "df1.info()"
   ]
  },
  {
   "cell_type": "markdown",
   "metadata": {},
   "source": [
    "<br><h5>Define 07 of 11</h5>"
   ]
  },
  {
   "cell_type": "markdown",
   "metadata": {},
   "source": [
    "<b>Assessment</b>: In df1, 'source' content is not useful since they are dead links.\n",
    "<br><b>Clean</b>: Change content to one of four values."
   ]
  },
  {
   "cell_type": "markdown",
   "metadata": {},
   "source": [
    "<br><h5>Code 07 of 11</h5>"
   ]
  },
  {
   "cell_type": "code",
   "execution_count": 56,
   "metadata": {},
   "outputs": [],
   "source": [
    "df1['source'].replace('<a href=\"http://twitter.com/download/iphone\" rel=\"nofollow\">Twitter for iPhone</a>',\n",
    "                      'Twitter for iPhone',inplace=True)\n",
    "\n",
    "df1['source'].replace('<a href=\"http://vine.co\" rel=\"nofollow\">Vine - Make a Scene</a>',\n",
    "                      'Vine - Make a Scene',inplace=True)\n",
    "\n",
    "df1['source'].replace('http://twitter.com\" rel=\"nofollow\">Twitter Web Client</a>',\n",
    "                      'Twitter Web Client',inplace=True)\n",
    "\n",
    "df1['source'].replace('<a href=\"https://about.twitter.com/products/tweetdeck\" rel=\"nofollow\">TweetDeck</a> ',\n",
    "                      'TweetDeck',inplace=True)"
   ]
  },
  {
   "cell_type": "markdown",
   "metadata": {},
   "source": [
    "<br><h5>Test 07 of 11</h5>"
   ]
  },
  {
   "cell_type": "code",
   "execution_count": 57,
   "metadata": {},
   "outputs": [
    {
     "data": {
      "text/plain": [
       "Twitter for iPhone                                                                     2042\n",
       "Vine - Make a Scene                                                                      91\n",
       "<a href=\"http://twitter.com\" rel=\"nofollow\">Twitter Web Client</a>                       31\n",
       "<a href=\"https://about.twitter.com/products/tweetdeck\" rel=\"nofollow\">TweetDeck</a>      11\n",
       "Name: source, dtype: int64"
      ]
     },
     "execution_count": 57,
     "metadata": {},
     "output_type": "execute_result"
    }
   ],
   "source": [
    "df1['source'].value_counts()"
   ]
  },
  {
   "cell_type": "markdown",
   "metadata": {},
   "source": [
    "<br><h5>Define 08 of 11</h5>"
   ]
  },
  {
   "cell_type": "markdown",
   "metadata": {},
   "source": [
    "<b>Assessment</b>: In df2, values in columns 'p1', 'p2', and 'p3' don't have consistent format.\n",
    "<br><b>Clean</b>: Change all 'p1', 'p2', and 'p3' values to lowercase."
   ]
  },
  {
   "cell_type": "markdown",
   "metadata": {},
   "source": [
    "<h5>Code 08 of 11</h5>"
   ]
  },
  {
   "cell_type": "code",
   "execution_count": 58,
   "metadata": {},
   "outputs": [],
   "source": [
    "df2['p1'] = df2['p1'].str.lower()\n",
    "df2['p2'] = df2['p2'].str.lower()\n",
    "df2['p3'] = df2['p3'].str.lower()"
   ]
  },
  {
   "cell_type": "markdown",
   "metadata": {},
   "source": [
    "<h5>Test 08 of 11</h5>"
   ]
  },
  {
   "cell_type": "code",
   "execution_count": 59,
   "metadata": {
    "scrolled": true
   },
   "outputs": [
    {
     "data": {
      "text/html": [
       "<div>\n",
       "<style scoped>\n",
       "    .dataframe tbody tr th:only-of-type {\n",
       "        vertical-align: middle;\n",
       "    }\n",
       "\n",
       "    .dataframe tbody tr th {\n",
       "        vertical-align: top;\n",
       "    }\n",
       "\n",
       "    .dataframe thead th {\n",
       "        text-align: right;\n",
       "    }\n",
       "</style>\n",
       "<table border=\"1\" class=\"dataframe\">\n",
       "  <thead>\n",
       "    <tr style=\"text-align: right;\">\n",
       "      <th></th>\n",
       "      <th>tweet_id</th>\n",
       "      <th>jpg_url</th>\n",
       "      <th>img_num</th>\n",
       "      <th>p1</th>\n",
       "      <th>p1_conf</th>\n",
       "      <th>p1_dog</th>\n",
       "      <th>p2</th>\n",
       "      <th>p2_conf</th>\n",
       "      <th>p2_dog</th>\n",
       "      <th>p3</th>\n",
       "      <th>p3_conf</th>\n",
       "      <th>p3_dog</th>\n",
       "    </tr>\n",
       "  </thead>\n",
       "  <tbody>\n",
       "    <tr>\n",
       "      <th>741</th>\n",
       "      <td>687317306314240000</td>\n",
       "      <td>https://pbs.twimg.com/media/CYnXcLEUkAAIQOM.jpg</td>\n",
       "      <td>1</td>\n",
       "      <td>shih-tzu</td>\n",
       "      <td>0.747208</td>\n",
       "      <td>True</td>\n",
       "      <td>maltese_dog</td>\n",
       "      <td>0.091025</td>\n",
       "      <td>True</td>\n",
       "      <td>lhasa</td>\n",
       "      <td>0.035788</td>\n",
       "      <td>True</td>\n",
       "    </tr>\n",
       "    <tr>\n",
       "      <th>458</th>\n",
       "      <td>674788554665512960</td>\n",
       "      <td>https://pbs.twimg.com/media/CV1Um8vWIAAmhQn.jpg</td>\n",
       "      <td>1</td>\n",
       "      <td>miniature_poodle</td>\n",
       "      <td>0.349561</td>\n",
       "      <td>True</td>\n",
       "      <td>toy_poodle</td>\n",
       "      <td>0.154711</td>\n",
       "      <td>True</td>\n",
       "      <td>maltese_dog</td>\n",
       "      <td>0.134229</td>\n",
       "      <td>True</td>\n",
       "    </tr>\n",
       "    <tr>\n",
       "      <th>772</th>\n",
       "      <td>689557536375177216</td>\n",
       "      <td>https://pbs.twimg.com/media/CZHM60BWIAA4AY4.jpg</td>\n",
       "      <td>1</td>\n",
       "      <td>eskimo_dog</td>\n",
       "      <td>0.169482</td>\n",
       "      <td>True</td>\n",
       "      <td>siberian_husky</td>\n",
       "      <td>0.161655</td>\n",
       "      <td>True</td>\n",
       "      <td>dingo</td>\n",
       "      <td>0.154414</td>\n",
       "      <td>False</td>\n",
       "    </tr>\n",
       "    <tr>\n",
       "      <th>1378</th>\n",
       "      <td>764259802650378240</td>\n",
       "      <td>https://pbs.twimg.com/media/CpsyNtXWgAAqvs3.jpg</td>\n",
       "      <td>1</td>\n",
       "      <td>german_shepherd</td>\n",
       "      <td>0.973677</td>\n",
       "      <td>True</td>\n",
       "      <td>malinois</td>\n",
       "      <td>0.025950</td>\n",
       "      <td>True</td>\n",
       "      <td>kelpie</td>\n",
       "      <td>0.000192</td>\n",
       "      <td>True</td>\n",
       "    </tr>\n",
       "    <tr>\n",
       "      <th>2003</th>\n",
       "      <td>877201837425926144</td>\n",
       "      <td>https://pbs.twimg.com/media/DCxyahJWsAAddSC.jpg</td>\n",
       "      <td>1</td>\n",
       "      <td>pembroke</td>\n",
       "      <td>0.931120</td>\n",
       "      <td>True</td>\n",
       "      <td>cardigan</td>\n",
       "      <td>0.068698</td>\n",
       "      <td>True</td>\n",
       "      <td>basenji</td>\n",
       "      <td>0.000082</td>\n",
       "      <td>True</td>\n",
       "    </tr>\n",
       "    <tr>\n",
       "      <th>363</th>\n",
       "      <td>672877615439593473</td>\n",
       "      <td>https://pbs.twimg.com/media/CVaKn75XAAEU09u.jpg</td>\n",
       "      <td>1</td>\n",
       "      <td>chihuahua</td>\n",
       "      <td>0.412362</td>\n",
       "      <td>True</td>\n",
       "      <td>beagle</td>\n",
       "      <td>0.068066</td>\n",
       "      <td>True</td>\n",
       "      <td>borzoi</td>\n",
       "      <td>0.045071</td>\n",
       "      <td>True</td>\n",
       "    </tr>\n",
       "    <tr>\n",
       "      <th>364</th>\n",
       "      <td>672884426393653248</td>\n",
       "      <td>https://pbs.twimg.com/media/CVaQ0M4UsAAki3t.jpg</td>\n",
       "      <td>1</td>\n",
       "      <td>tusker</td>\n",
       "      <td>0.122410</td>\n",
       "      <td>False</td>\n",
       "      <td>warthog</td>\n",
       "      <td>0.119870</td>\n",
       "      <td>False</td>\n",
       "      <td>water_buffalo</td>\n",
       "      <td>0.105856</td>\n",
       "      <td>False</td>\n",
       "    </tr>\n",
       "    <tr>\n",
       "      <th>1166</th>\n",
       "      <td>735635087207878657</td>\n",
       "      <td>https://pbs.twimg.com/media/CjWANBlVAAAaN-a.jpg</td>\n",
       "      <td>1</td>\n",
       "      <td>pug</td>\n",
       "      <td>0.891871</td>\n",
       "      <td>True</td>\n",
       "      <td>goose</td>\n",
       "      <td>0.014377</td>\n",
       "      <td>False</td>\n",
       "      <td>fur_coat</td>\n",
       "      <td>0.008451</td>\n",
       "      <td>False</td>\n",
       "    </tr>\n",
       "    <tr>\n",
       "      <th>1786</th>\n",
       "      <td>829449946868879360</td>\n",
       "      <td>https://pbs.twimg.com/media/C4LMUf8WYAkWz4I.jpg</td>\n",
       "      <td>1</td>\n",
       "      <td>labrador_retriever</td>\n",
       "      <td>0.315163</td>\n",
       "      <td>True</td>\n",
       "      <td>golden_retriever</td>\n",
       "      <td>0.153210</td>\n",
       "      <td>True</td>\n",
       "      <td>pekinese</td>\n",
       "      <td>0.132791</td>\n",
       "      <td>True</td>\n",
       "    </tr>\n",
       "    <tr>\n",
       "      <th>1717</th>\n",
       "      <td>819015331746349057</td>\n",
       "      <td>https://pbs.twimg.com/media/C12x-JTVIAAzdfl.jpg</td>\n",
       "      <td>4</td>\n",
       "      <td>prison</td>\n",
       "      <td>0.907083</td>\n",
       "      <td>False</td>\n",
       "      <td>palace</td>\n",
       "      <td>0.020089</td>\n",
       "      <td>False</td>\n",
       "      <td>umbrella</td>\n",
       "      <td>0.007850</td>\n",
       "      <td>False</td>\n",
       "    </tr>\n",
       "    <tr>\n",
       "      <th>2072</th>\n",
       "      <td>891815181378084864</td>\n",
       "      <td>https://pbs.twimg.com/media/DGBdLU1WsAANxJ9.jpg</td>\n",
       "      <td>1</td>\n",
       "      <td>chihuahua</td>\n",
       "      <td>0.716012</td>\n",
       "      <td>True</td>\n",
       "      <td>malamute</td>\n",
       "      <td>0.078253</td>\n",
       "      <td>True</td>\n",
       "      <td>kelpie</td>\n",
       "      <td>0.031379</td>\n",
       "      <td>True</td>\n",
       "    </tr>\n",
       "    <tr>\n",
       "      <th>952</th>\n",
       "      <td>705066031337840642</td>\n",
       "      <td>https://pbs.twimg.com/media/CcjlzRkW0AMqmWg.jpg</td>\n",
       "      <td>1</td>\n",
       "      <td>airedale</td>\n",
       "      <td>0.868658</td>\n",
       "      <td>True</td>\n",
       "      <td>irish_terrier</td>\n",
       "      <td>0.027587</td>\n",
       "      <td>True</td>\n",
       "      <td>otterhound</td>\n",
       "      <td>0.025324</td>\n",
       "      <td>True</td>\n",
       "    </tr>\n",
       "    <tr>\n",
       "      <th>1567</th>\n",
       "      <td>794205286408003585</td>\n",
       "      <td>https://pbs.twimg.com/media/CwWVe_3WEAAHAvx.jpg</td>\n",
       "      <td>3</td>\n",
       "      <td>pedestal</td>\n",
       "      <td>0.662660</td>\n",
       "      <td>False</td>\n",
       "      <td>fountain</td>\n",
       "      <td>0.294827</td>\n",
       "      <td>False</td>\n",
       "      <td>brass</td>\n",
       "      <td>0.020371</td>\n",
       "      <td>False</td>\n",
       "    </tr>\n",
       "    <tr>\n",
       "      <th>1834</th>\n",
       "      <td>836989968035819520</td>\n",
       "      <td>https://pbs.twimg.com/media/C52V7PzWcAA_pVv.jpg</td>\n",
       "      <td>1</td>\n",
       "      <td>shopping_cart</td>\n",
       "      <td>0.572422</td>\n",
       "      <td>False</td>\n",
       "      <td>shopping_basket</td>\n",
       "      <td>0.414002</td>\n",
       "      <td>False</td>\n",
       "      <td>toy_poodle</td>\n",
       "      <td>0.005887</td>\n",
       "      <td>True</td>\n",
       "    </tr>\n",
       "    <tr>\n",
       "      <th>1593</th>\n",
       "      <td>798694562394996736</td>\n",
       "      <td>https://pbs.twimg.com/media/Cbs3DOAXIAAp3Bd.jpg</td>\n",
       "      <td>1</td>\n",
       "      <td>chihuahua</td>\n",
       "      <td>0.615163</td>\n",
       "      <td>True</td>\n",
       "      <td>pembroke</td>\n",
       "      <td>0.159509</td>\n",
       "      <td>True</td>\n",
       "      <td>basenji</td>\n",
       "      <td>0.084466</td>\n",
       "      <td>True</td>\n",
       "    </tr>\n",
       "    <tr>\n",
       "      <th>1697</th>\n",
       "      <td>816697700272001025</td>\n",
       "      <td>https://pbs.twimg.com/media/C1V-K63UAAEUHqw.jpg</td>\n",
       "      <td>1</td>\n",
       "      <td>chihuahua</td>\n",
       "      <td>0.756992</td>\n",
       "      <td>True</td>\n",
       "      <td>pomeranian</td>\n",
       "      <td>0.052850</td>\n",
       "      <td>True</td>\n",
       "      <td>maltese_dog</td>\n",
       "      <td>0.047608</td>\n",
       "      <td>True</td>\n",
       "    </tr>\n",
       "    <tr>\n",
       "      <th>1159</th>\n",
       "      <td>733828123016450049</td>\n",
       "      <td>https://pbs.twimg.com/media/Ci8UxxcW0AYgHDh.jpg</td>\n",
       "      <td>2</td>\n",
       "      <td>beagle</td>\n",
       "      <td>0.472324</td>\n",
       "      <td>True</td>\n",
       "      <td>walker_hound</td>\n",
       "      <td>0.121779</td>\n",
       "      <td>True</td>\n",
       "      <td>saint_bernard</td>\n",
       "      <td>0.114640</td>\n",
       "      <td>True</td>\n",
       "    </tr>\n",
       "    <tr>\n",
       "      <th>787</th>\n",
       "      <td>690374419777196032</td>\n",
       "      <td>https://pbs.twimg.com/media/CZSz3vWXEAACElU.jpg</td>\n",
       "      <td>1</td>\n",
       "      <td>kuvasz</td>\n",
       "      <td>0.286345</td>\n",
       "      <td>True</td>\n",
       "      <td>labrador_retriever</td>\n",
       "      <td>0.107144</td>\n",
       "      <td>True</td>\n",
       "      <td>ice_bear</td>\n",
       "      <td>0.085086</td>\n",
       "      <td>False</td>\n",
       "    </tr>\n",
       "    <tr>\n",
       "      <th>1993</th>\n",
       "      <td>874012996292530176</td>\n",
       "      <td>https://pbs.twimg.com/media/DCEeLxjXsAAvNSM.jpg</td>\n",
       "      <td>2</td>\n",
       "      <td>cardigan</td>\n",
       "      <td>0.806674</td>\n",
       "      <td>True</td>\n",
       "      <td>pembroke</td>\n",
       "      <td>0.116622</td>\n",
       "      <td>True</td>\n",
       "      <td>kelpie</td>\n",
       "      <td>0.049182</td>\n",
       "      <td>True</td>\n",
       "    </tr>\n",
       "    <tr>\n",
       "      <th>98</th>\n",
       "      <td>667766675769573376</td>\n",
       "      <td>https://pbs.twimg.com/media/CURiQMnUAAAPT2M.jpg</td>\n",
       "      <td>1</td>\n",
       "      <td>fire_engine</td>\n",
       "      <td>0.883493</td>\n",
       "      <td>False</td>\n",
       "      <td>tow_truck</td>\n",
       "      <td>0.074734</td>\n",
       "      <td>False</td>\n",
       "      <td>jeep</td>\n",
       "      <td>0.012773</td>\n",
       "      <td>False</td>\n",
       "    </tr>\n",
       "  </tbody>\n",
       "</table>\n",
       "</div>"
      ],
      "text/plain": [
       "                tweet_id                                          jpg_url  \\\n",
       "741   687317306314240000  https://pbs.twimg.com/media/CYnXcLEUkAAIQOM.jpg   \n",
       "458   674788554665512960  https://pbs.twimg.com/media/CV1Um8vWIAAmhQn.jpg   \n",
       "772   689557536375177216  https://pbs.twimg.com/media/CZHM60BWIAA4AY4.jpg   \n",
       "1378  764259802650378240  https://pbs.twimg.com/media/CpsyNtXWgAAqvs3.jpg   \n",
       "2003  877201837425926144  https://pbs.twimg.com/media/DCxyahJWsAAddSC.jpg   \n",
       "363   672877615439593473  https://pbs.twimg.com/media/CVaKn75XAAEU09u.jpg   \n",
       "364   672884426393653248  https://pbs.twimg.com/media/CVaQ0M4UsAAki3t.jpg   \n",
       "1166  735635087207878657  https://pbs.twimg.com/media/CjWANBlVAAAaN-a.jpg   \n",
       "1786  829449946868879360  https://pbs.twimg.com/media/C4LMUf8WYAkWz4I.jpg   \n",
       "1717  819015331746349057  https://pbs.twimg.com/media/C12x-JTVIAAzdfl.jpg   \n",
       "2072  891815181378084864  https://pbs.twimg.com/media/DGBdLU1WsAANxJ9.jpg   \n",
       "952   705066031337840642  https://pbs.twimg.com/media/CcjlzRkW0AMqmWg.jpg   \n",
       "1567  794205286408003585  https://pbs.twimg.com/media/CwWVe_3WEAAHAvx.jpg   \n",
       "1834  836989968035819520  https://pbs.twimg.com/media/C52V7PzWcAA_pVv.jpg   \n",
       "1593  798694562394996736  https://pbs.twimg.com/media/Cbs3DOAXIAAp3Bd.jpg   \n",
       "1697  816697700272001025  https://pbs.twimg.com/media/C1V-K63UAAEUHqw.jpg   \n",
       "1159  733828123016450049  https://pbs.twimg.com/media/Ci8UxxcW0AYgHDh.jpg   \n",
       "787   690374419777196032  https://pbs.twimg.com/media/CZSz3vWXEAACElU.jpg   \n",
       "1993  874012996292530176  https://pbs.twimg.com/media/DCEeLxjXsAAvNSM.jpg   \n",
       "98    667766675769573376  https://pbs.twimg.com/media/CURiQMnUAAAPT2M.jpg   \n",
       "\n",
       "      img_num                  p1   p1_conf  p1_dog                  p2  \\\n",
       "741         1            shih-tzu  0.747208    True         maltese_dog   \n",
       "458         1    miniature_poodle  0.349561    True          toy_poodle   \n",
       "772         1          eskimo_dog  0.169482    True      siberian_husky   \n",
       "1378        1     german_shepherd  0.973677    True            malinois   \n",
       "2003        1            pembroke  0.931120    True            cardigan   \n",
       "363         1           chihuahua  0.412362    True              beagle   \n",
       "364         1              tusker  0.122410   False             warthog   \n",
       "1166        1                 pug  0.891871    True               goose   \n",
       "1786        1  labrador_retriever  0.315163    True    golden_retriever   \n",
       "1717        4              prison  0.907083   False              palace   \n",
       "2072        1           chihuahua  0.716012    True            malamute   \n",
       "952         1            airedale  0.868658    True       irish_terrier   \n",
       "1567        3            pedestal  0.662660   False            fountain   \n",
       "1834        1       shopping_cart  0.572422   False     shopping_basket   \n",
       "1593        1           chihuahua  0.615163    True            pembroke   \n",
       "1697        1           chihuahua  0.756992    True          pomeranian   \n",
       "1159        2              beagle  0.472324    True        walker_hound   \n",
       "787         1              kuvasz  0.286345    True  labrador_retriever   \n",
       "1993        2            cardigan  0.806674    True            pembroke   \n",
       "98          1         fire_engine  0.883493   False           tow_truck   \n",
       "\n",
       "       p2_conf  p2_dog             p3   p3_conf  p3_dog  \n",
       "741   0.091025    True          lhasa  0.035788    True  \n",
       "458   0.154711    True    maltese_dog  0.134229    True  \n",
       "772   0.161655    True          dingo  0.154414   False  \n",
       "1378  0.025950    True         kelpie  0.000192    True  \n",
       "2003  0.068698    True        basenji  0.000082    True  \n",
       "363   0.068066    True         borzoi  0.045071    True  \n",
       "364   0.119870   False  water_buffalo  0.105856   False  \n",
       "1166  0.014377   False       fur_coat  0.008451   False  \n",
       "1786  0.153210    True       pekinese  0.132791    True  \n",
       "1717  0.020089   False       umbrella  0.007850   False  \n",
       "2072  0.078253    True         kelpie  0.031379    True  \n",
       "952   0.027587    True     otterhound  0.025324    True  \n",
       "1567  0.294827   False          brass  0.020371   False  \n",
       "1834  0.414002   False     toy_poodle  0.005887    True  \n",
       "1593  0.159509    True        basenji  0.084466    True  \n",
       "1697  0.052850    True    maltese_dog  0.047608    True  \n",
       "1159  0.121779    True  saint_bernard  0.114640    True  \n",
       "787   0.107144    True       ice_bear  0.085086   False  \n",
       "1993  0.116622    True         kelpie  0.049182    True  \n",
       "98    0.074734   False           jeep  0.012773   False  "
      ]
     },
     "execution_count": 59,
     "metadata": {},
     "output_type": "execute_result"
    }
   ],
   "source": [
    "df2.sample(20)"
   ]
  },
  {
   "cell_type": "code",
   "execution_count": 60,
   "metadata": {},
   "outputs": [
    {
     "data": {
      "text/plain": [
       "2075"
      ]
     },
     "execution_count": 60,
     "metadata": {},
     "output_type": "execute_result"
    }
   ],
   "source": [
    "# checking programatically\n",
    "df2.p1.str.lower().count()"
   ]
  },
  {
   "cell_type": "code",
   "execution_count": 61,
   "metadata": {},
   "outputs": [
    {
     "data": {
      "text/plain": [
       "2075"
      ]
     },
     "execution_count": 61,
     "metadata": {},
     "output_type": "execute_result"
    }
   ],
   "source": [
    "df2.p2.str.lower().count()"
   ]
  },
  {
   "cell_type": "code",
   "execution_count": 62,
   "metadata": {},
   "outputs": [
    {
     "data": {
      "text/plain": [
       "2075"
      ]
     },
     "execution_count": 62,
     "metadata": {},
     "output_type": "execute_result"
    }
   ],
   "source": [
    "df2.p3.str.lower().count()"
   ]
  },
  {
   "cell_type": "markdown",
   "metadata": {},
   "source": [
    "<br><h5>Define 09 of 11</h5>"
   ]
  },
  {
   "cell_type": "markdown",
   "metadata": {},
   "source": [
    "<b>Assessment</b>: In df2, there are duplicates in the 'jpg_url' column.\n",
    "<br><b>Clean</b>: Drop duplicates in 'jpg_url' column."
   ]
  },
  {
   "cell_type": "markdown",
   "metadata": {},
   "source": [
    "<h5>Code 09 of 11</h5>"
   ]
  },
  {
   "cell_type": "code",
   "execution_count": 63,
   "metadata": {},
   "outputs": [],
   "source": [
    "df2 = df2.drop_duplicates(subset=['jpg_url'], keep='first')"
   ]
  },
  {
   "cell_type": "markdown",
   "metadata": {},
   "source": [
    "<h5>Test 09 of 11</h5>"
   ]
  },
  {
   "cell_type": "code",
   "execution_count": 64,
   "metadata": {},
   "outputs": [
    {
     "data": {
      "text/plain": [
       "False    2009\n",
       "Name: jpg_url, dtype: int64"
      ]
     },
     "execution_count": 64,
     "metadata": {},
     "output_type": "execute_result"
    }
   ],
   "source": [
    "df2['jpg_url'].duplicated().value_counts()"
   ]
  },
  {
   "cell_type": "markdown",
   "metadata": {},
   "source": [
    "<br><h5>Define 10 of 11</h5>"
   ]
  },
  {
   "cell_type": "markdown",
   "metadata": {},
   "source": [
    "<b>Assessment</b>: The column label for Tweet IDs should be the same across the three separate datasets.<br><b>Clean</b>: Change the column label from 'id' to 'tweet_id' in the Twitter API dataset."
   ]
  },
  {
   "cell_type": "markdown",
   "metadata": {},
   "source": [
    "<br><h5>Code 10 of 11</h5>"
   ]
  },
  {
   "cell_type": "code",
   "execution_count": 65,
   "metadata": {},
   "outputs": [],
   "source": [
    "df3.rename(columns={'id': 'tweet_id'}, inplace=True)"
   ]
  },
  {
   "cell_type": "markdown",
   "metadata": {},
   "source": [
    "<br><h5>Test 10 of 11</h5>"
   ]
  },
  {
   "cell_type": "code",
   "execution_count": 66,
   "metadata": {},
   "outputs": [
    {
     "data": {
      "text/plain": [
       "['favorite_count', 'tweet_id', 'retweet_count']"
      ]
     },
     "execution_count": 66,
     "metadata": {},
     "output_type": "execute_result"
    }
   ],
   "source": [
    "list(df3)"
   ]
  },
  {
   "cell_type": "markdown",
   "metadata": {},
   "source": [
    "<br><h5>Define 11 of 11</h5>"
   ]
  },
  {
   "cell_type": "markdown",
   "metadata": {},
   "source": [
    "<b>Assessment</b>: There are three different datasets.  Some of the information can be contained in a single data frame.\n",
    "<br><b>Clean</b>: Merge the three datasets by tweet ID into a single data frame."
   ]
  },
  {
   "cell_type": "markdown",
   "metadata": {},
   "source": [
    "<h5>Code 11 of 11</h5>"
   ]
  },
  {
   "cell_type": "code",
   "execution_count": 67,
   "metadata": {},
   "outputs": [],
   "source": [
    "df4 = pd.merge(df1,\n",
    "              df2,\n",
    "              on='tweet_id')\n",
    "\n",
    "df4 = pd.merge(df4,\n",
    "              df3,\n",
    "              on='tweet_id')"
   ]
  },
  {
   "cell_type": "markdown",
   "metadata": {},
   "source": [
    "<h5>Test 11 of 11</h5>"
   ]
  },
  {
   "cell_type": "code",
   "execution_count": 68,
   "metadata": {},
   "outputs": [
    {
     "name": "stdout",
     "output_type": "stream",
     "text": [
      "<class 'pandas.core.frame.DataFrame'>\n",
      "Int64Index: 1990 entries, 0 to 1989\n",
      "Data columns (total 23 columns):\n",
      "tweet_id                 1990 non-null int64\n",
      "in_reply_to_status_id    23 non-null float64\n",
      "in_reply_to_user_id      23 non-null float64\n",
      "timestamp                1990 non-null datetime64[ns]\n",
      "source                   1990 non-null object\n",
      "text                     1990 non-null object\n",
      "expanded_urls            1990 non-null object\n",
      "name                     1990 non-null object\n",
      "stage                    306 non-null object\n",
      "rating_given             1990 non-null float64\n",
      "jpg_url                  1990 non-null object\n",
      "img_num                  1990 non-null int64\n",
      "p1                       1990 non-null object\n",
      "p1_conf                  1990 non-null float64\n",
      "p1_dog                   1990 non-null bool\n",
      "p2                       1990 non-null object\n",
      "p2_conf                  1990 non-null float64\n",
      "p2_dog                   1990 non-null bool\n",
      "p3                       1990 non-null object\n",
      "p3_conf                  1990 non-null float64\n",
      "p3_dog                   1990 non-null bool\n",
      "favorite_count           1990 non-null int64\n",
      "retweet_count            1990 non-null int64\n",
      "dtypes: bool(3), datetime64[ns](1), float64(6), int64(4), object(9)\n",
      "memory usage: 332.3+ KB\n"
     ]
    }
   ],
   "source": [
    "df4.info()"
   ]
  },
  {
   "cell_type": "markdown",
   "metadata": {},
   "source": [
    "<h4>Store</h4>"
   ]
  },
  {
   "cell_type": "code",
   "execution_count": 69,
   "metadata": {},
   "outputs": [
    {
     "data": {
      "text/html": [
       "<div>\n",
       "<style scoped>\n",
       "    .dataframe tbody tr th:only-of-type {\n",
       "        vertical-align: middle;\n",
       "    }\n",
       "\n",
       "    .dataframe tbody tr th {\n",
       "        vertical-align: top;\n",
       "    }\n",
       "\n",
       "    .dataframe thead th {\n",
       "        text-align: right;\n",
       "    }\n",
       "</style>\n",
       "<table border=\"1\" class=\"dataframe\">\n",
       "  <thead>\n",
       "    <tr style=\"text-align: right;\">\n",
       "      <th></th>\n",
       "      <th>tweet_id</th>\n",
       "      <th>in_reply_to_status_id</th>\n",
       "      <th>in_reply_to_user_id</th>\n",
       "      <th>timestamp</th>\n",
       "      <th>source</th>\n",
       "      <th>text</th>\n",
       "      <th>expanded_urls</th>\n",
       "      <th>name</th>\n",
       "      <th>stage</th>\n",
       "      <th>rating_given</th>\n",
       "      <th>...</th>\n",
       "      <th>p1_conf</th>\n",
       "      <th>p1_dog</th>\n",
       "      <th>p2</th>\n",
       "      <th>p2_conf</th>\n",
       "      <th>p2_dog</th>\n",
       "      <th>p3</th>\n",
       "      <th>p3_conf</th>\n",
       "      <th>p3_dog</th>\n",
       "      <th>favorite_count</th>\n",
       "      <th>retweet_count</th>\n",
       "    </tr>\n",
       "  </thead>\n",
       "  <tbody>\n",
       "    <tr>\n",
       "      <th>0</th>\n",
       "      <td>892420643555336193</td>\n",
       "      <td>NaN</td>\n",
       "      <td>NaN</td>\n",
       "      <td>2017-08-01 16:23:56</td>\n",
       "      <td>Twitter for iPhone</td>\n",
       "      <td>This is Phineas. He's a mystical boy. Only eve...</td>\n",
       "      <td>https://twitter.com/dog_rates/status/892420643...</td>\n",
       "      <td>Phineas</td>\n",
       "      <td>None</td>\n",
       "      <td>1.3</td>\n",
       "      <td>...</td>\n",
       "      <td>0.097049</td>\n",
       "      <td>False</td>\n",
       "      <td>bagel</td>\n",
       "      <td>0.085851</td>\n",
       "      <td>False</td>\n",
       "      <td>banana</td>\n",
       "      <td>0.076110</td>\n",
       "      <td>False</td>\n",
       "      <td>38006</td>\n",
       "      <td>8312</td>\n",
       "    </tr>\n",
       "    <tr>\n",
       "      <th>1</th>\n",
       "      <td>892177421306343426</td>\n",
       "      <td>NaN</td>\n",
       "      <td>NaN</td>\n",
       "      <td>2017-08-01 00:17:27</td>\n",
       "      <td>Twitter for iPhone</td>\n",
       "      <td>This is Tilly. She's just checking pup on you....</td>\n",
       "      <td>https://twitter.com/dog_rates/status/892177421...</td>\n",
       "      <td>Tilly</td>\n",
       "      <td>None</td>\n",
       "      <td>1.3</td>\n",
       "      <td>...</td>\n",
       "      <td>0.323581</td>\n",
       "      <td>True</td>\n",
       "      <td>pekinese</td>\n",
       "      <td>0.090647</td>\n",
       "      <td>True</td>\n",
       "      <td>papillon</td>\n",
       "      <td>0.068957</td>\n",
       "      <td>True</td>\n",
       "      <td>32630</td>\n",
       "      <td>6140</td>\n",
       "    </tr>\n",
       "    <tr>\n",
       "      <th>2</th>\n",
       "      <td>891815181378084864</td>\n",
       "      <td>NaN</td>\n",
       "      <td>NaN</td>\n",
       "      <td>2017-07-31 00:18:03</td>\n",
       "      <td>Twitter for iPhone</td>\n",
       "      <td>This is Archie. He is a rare Norwegian Pouncin...</td>\n",
       "      <td>https://twitter.com/dog_rates/status/891815181...</td>\n",
       "      <td>Archie</td>\n",
       "      <td>None</td>\n",
       "      <td>1.2</td>\n",
       "      <td>...</td>\n",
       "      <td>0.716012</td>\n",
       "      <td>True</td>\n",
       "      <td>malamute</td>\n",
       "      <td>0.078253</td>\n",
       "      <td>True</td>\n",
       "      <td>kelpie</td>\n",
       "      <td>0.031379</td>\n",
       "      <td>True</td>\n",
       "      <td>24554</td>\n",
       "      <td>4065</td>\n",
       "    </tr>\n",
       "    <tr>\n",
       "      <th>3</th>\n",
       "      <td>891689557279858688</td>\n",
       "      <td>NaN</td>\n",
       "      <td>NaN</td>\n",
       "      <td>2017-07-30 15:58:51</td>\n",
       "      <td>Twitter for iPhone</td>\n",
       "      <td>This is Darla. She commenced a snooze mid meal...</td>\n",
       "      <td>https://twitter.com/dog_rates/status/891689557...</td>\n",
       "      <td>Darla</td>\n",
       "      <td>None</td>\n",
       "      <td>1.3</td>\n",
       "      <td>...</td>\n",
       "      <td>0.170278</td>\n",
       "      <td>False</td>\n",
       "      <td>labrador_retriever</td>\n",
       "      <td>0.168086</td>\n",
       "      <td>True</td>\n",
       "      <td>spatula</td>\n",
       "      <td>0.040836</td>\n",
       "      <td>False</td>\n",
       "      <td>41360</td>\n",
       "      <td>8456</td>\n",
       "    </tr>\n",
       "    <tr>\n",
       "      <th>4</th>\n",
       "      <td>891327558926688256</td>\n",
       "      <td>NaN</td>\n",
       "      <td>NaN</td>\n",
       "      <td>2017-07-29 16:00:24</td>\n",
       "      <td>Twitter for iPhone</td>\n",
       "      <td>This is Franklin. He would like you to stop ca...</td>\n",
       "      <td>https://twitter.com/dog_rates/status/891327558...</td>\n",
       "      <td>Franklin</td>\n",
       "      <td>None</td>\n",
       "      <td>1.2</td>\n",
       "      <td>...</td>\n",
       "      <td>0.555712</td>\n",
       "      <td>True</td>\n",
       "      <td>english_springer</td>\n",
       "      <td>0.225770</td>\n",
       "      <td>True</td>\n",
       "      <td>german_short-haired_pointer</td>\n",
       "      <td>0.175219</td>\n",
       "      <td>True</td>\n",
       "      <td>39528</td>\n",
       "      <td>9155</td>\n",
       "    </tr>\n",
       "  </tbody>\n",
       "</table>\n",
       "<p>5 rows × 23 columns</p>\n",
       "</div>"
      ],
      "text/plain": [
       "             tweet_id  in_reply_to_status_id  in_reply_to_user_id  \\\n",
       "0  892420643555336193                    NaN                  NaN   \n",
       "1  892177421306343426                    NaN                  NaN   \n",
       "2  891815181378084864                    NaN                  NaN   \n",
       "3  891689557279858688                    NaN                  NaN   \n",
       "4  891327558926688256                    NaN                  NaN   \n",
       "\n",
       "            timestamp              source  \\\n",
       "0 2017-08-01 16:23:56  Twitter for iPhone   \n",
       "1 2017-08-01 00:17:27  Twitter for iPhone   \n",
       "2 2017-07-31 00:18:03  Twitter for iPhone   \n",
       "3 2017-07-30 15:58:51  Twitter for iPhone   \n",
       "4 2017-07-29 16:00:24  Twitter for iPhone   \n",
       "\n",
       "                                                text  \\\n",
       "0  This is Phineas. He's a mystical boy. Only eve...   \n",
       "1  This is Tilly. She's just checking pup on you....   \n",
       "2  This is Archie. He is a rare Norwegian Pouncin...   \n",
       "3  This is Darla. She commenced a snooze mid meal...   \n",
       "4  This is Franklin. He would like you to stop ca...   \n",
       "\n",
       "                                       expanded_urls      name stage  \\\n",
       "0  https://twitter.com/dog_rates/status/892420643...   Phineas  None   \n",
       "1  https://twitter.com/dog_rates/status/892177421...     Tilly  None   \n",
       "2  https://twitter.com/dog_rates/status/891815181...    Archie  None   \n",
       "3  https://twitter.com/dog_rates/status/891689557...     Darla  None   \n",
       "4  https://twitter.com/dog_rates/status/891327558...  Franklin  None   \n",
       "\n",
       "   rating_given      ...         p1_conf  p1_dog                  p2  \\\n",
       "0           1.3      ...        0.097049   False               bagel   \n",
       "1           1.3      ...        0.323581    True            pekinese   \n",
       "2           1.2      ...        0.716012    True            malamute   \n",
       "3           1.3      ...        0.170278   False  labrador_retriever   \n",
       "4           1.2      ...        0.555712    True    english_springer   \n",
       "\n",
       "    p2_conf  p2_dog                           p3   p3_conf  p3_dog  \\\n",
       "0  0.085851   False                       banana  0.076110   False   \n",
       "1  0.090647    True                     papillon  0.068957    True   \n",
       "2  0.078253    True                       kelpie  0.031379    True   \n",
       "3  0.168086    True                      spatula  0.040836   False   \n",
       "4  0.225770    True  german_short-haired_pointer  0.175219    True   \n",
       "\n",
       "  favorite_count  retweet_count  \n",
       "0          38006           8312  \n",
       "1          32630           6140  \n",
       "2          24554           4065  \n",
       "3          41360           8456  \n",
       "4          39528           9155  \n",
       "\n",
       "[5 rows x 23 columns]"
      ]
     },
     "execution_count": 69,
     "metadata": {},
     "output_type": "execute_result"
    }
   ],
   "source": [
    "df4.to_csv('twitter_archive_master.csv', encoding='utf-8', index=False)\n",
    "\n",
    "df4.head()"
   ]
  },
  {
   "cell_type": "markdown",
   "metadata": {},
   "source": [
    "<div align=\"center\"><h1>Analyze & Visualize</h1></div>"
   ]
  },
  {
   "cell_type": "code",
   "execution_count": 70,
   "metadata": {
    "scrolled": true
   },
   "outputs": [
    {
     "data": {
      "text/plain": [
       "count     1990\n",
       "unique     914\n",
       "top       None\n",
       "freq       644\n",
       "Name: name, dtype: object"
      ]
     },
     "execution_count": 70,
     "metadata": {},
     "output_type": "execute_result"
    }
   ],
   "source": [
    "df4['name'].describe()"
   ]
  },
  {
   "cell_type": "markdown",
   "metadata": {},
   "source": [
    "Let's see which dog names are the most popular."
   ]
  },
  {
   "cell_type": "code",
   "execution_count": 71,
   "metadata": {},
   "outputs": [],
   "source": [
    "# Create a data frame with only dogs\n",
    "dogs_only = df4[df4.p1_dog == True]"
   ]
  },
  {
   "cell_type": "code",
   "execution_count": 72,
   "metadata": {
    "scrolled": true
   },
   "outputs": [
    {
     "data": {
      "text/plain": [
       "None         433\n",
       "Cooper        10\n",
       "Charlie        9\n",
       "Oliver         9\n",
       "Tucker         8\n",
       "Lucy           8\n",
       "Penny          7\n",
       "Sadie          7\n",
       "Daisy          7\n",
       "Winston        6\n",
       "Koda           6\n",
       "Jax            6\n",
       "Rusty          5\n",
       "Leo            5\n",
       "Toby           5\n",
       "Bella          5\n",
       "Stanley        5\n",
       "Bo             5\n",
       "Finn           4\n",
       "Scooter        4\n",
       "Cassie         4\n",
       "Oscar          4\n",
       "George         4\n",
       "Reggie         4\n",
       "Scout          4\n",
       "Brody          4\n",
       "Gus            4\n",
       "Dave           4\n",
       "Dexter         4\n",
       "Larry          4\n",
       "            ... \n",
       "Coops          1\n",
       "Keet           1\n",
       "Kloey          1\n",
       "Shnuggles      1\n",
       "O              1\n",
       "Ralph          1\n",
       "Spencer        1\n",
       "Zeus           1\n",
       "Major          1\n",
       "Reagan         1\n",
       "Divine         1\n",
       "Meyer          1\n",
       "Emma           1\n",
       "Eriq           1\n",
       "Kevin          1\n",
       "Willie         1\n",
       "Barclay        1\n",
       "Stormy         1\n",
       "Ron            1\n",
       "Mingus         1\n",
       "Sampson        1\n",
       "Eevee          1\n",
       "Jimbo          1\n",
       "Grizz          1\n",
       "Bert           1\n",
       "Trigger        1\n",
       "Flurpson       1\n",
       "Mattie         1\n",
       "Fillup         1\n",
       "Bones          1\n",
       "Name: name, Length: 745, dtype: int64"
      ]
     },
     "execution_count": 72,
     "metadata": {},
     "output_type": "execute_result"
    }
   ],
   "source": [
    "dogs_only['name'].value_counts()"
   ]
  },
  {
   "cell_type": "markdown",
   "metadata": {},
   "source": [
    "We can see the the top four names are Cooper, Oliver, Charlie, Tucker, and Lucy."
   ]
  },
  {
   "cell_type": "code",
   "execution_count": 73,
   "metadata": {
    "scrolled": false
   },
   "outputs": [
    {
     "data": {
      "text/plain": [
       "stage\n",
       "doggo             1.188889\n",
       "doggo, floofer    1.100000\n",
       "doggo, pupper     1.100000\n",
       "doggo, puppo      1.300000\n",
       "floofer           1.200000\n",
       "pupper            1.071429\n",
       "puppo             1.200000\n",
       "Name: rating_given, dtype: float64"
      ]
     },
     "execution_count": 73,
     "metadata": {},
     "output_type": "execute_result"
    }
   ],
   "source": [
    "# Group by dog stage\n",
    "stage_groups = df4.groupby(\"stage\")\n",
    "# Apply mean function to weight column\n",
    "stage_groups['rating_given'].mean()"
   ]
  },
  {
   "cell_type": "markdown",
   "metadata": {},
   "source": [
    "The dog stages with the highest mean ratings are floofer and puppo."
   ]
  },
  {
   "cell_type": "markdown",
   "metadata": {},
   "source": [
    "Let's get an idea of the favorite count, retweet count, and rating."
   ]
  },
  {
   "cell_type": "code",
   "execution_count": 74,
   "metadata": {},
   "outputs": [
    {
     "data": {
      "text/plain": [
       "count      1990.000000\n",
       "mean       8718.452261\n",
       "std       12795.673121\n",
       "min          78.000000\n",
       "25%        1868.250000\n",
       "50%        3941.500000\n",
       "75%       10866.250000\n",
       "max      164186.000000\n",
       "Name: favorite_count, dtype: float64"
      ]
     },
     "execution_count": 74,
     "metadata": {},
     "output_type": "execute_result"
    }
   ],
   "source": [
    "df4['favorite_count'].describe()"
   ]
  },
  {
   "cell_type": "code",
   "execution_count": 75,
   "metadata": {
    "scrolled": false
   },
   "outputs": [
    {
     "data": {
      "text/plain": [
       "count     1990.000000\n",
       "mean      2647.391457\n",
       "std       4723.929240\n",
       "min         12.000000\n",
       "25%        591.000000\n",
       "50%       1271.500000\n",
       "75%       3026.000000\n",
       "max      83581.000000\n",
       "Name: retweet_count, dtype: float64"
      ]
     },
     "execution_count": 75,
     "metadata": {},
     "output_type": "execute_result"
    }
   ],
   "source": [
    "df4['retweet_count'].describe()"
   ]
  },
  {
   "cell_type": "code",
   "execution_count": 76,
   "metadata": {},
   "outputs": [
    {
     "data": {
      "text/plain": [
       "count    1990.000000\n",
       "mean        1.169338\n",
       "std         4.071156\n",
       "min         0.000000\n",
       "25%         1.000000\n",
       "50%         1.100000\n",
       "75%         1.200000\n",
       "max       177.600000\n",
       "Name: rating_given, dtype: float64"
      ]
     },
     "execution_count": 76,
     "metadata": {},
     "output_type": "execute_result"
    }
   ],
   "source": [
    "df4['rating_given'].describe()"
   ]
  },
  {
   "cell_type": "markdown",
   "metadata": {},
   "source": [
    "Let's see which dogs are the most popular by comparing the mean retweet counts, mean favorite counts, and ratings."
   ]
  },
  {
   "cell_type": "code",
   "execution_count": 77,
   "metadata": {},
   "outputs": [
    {
     "name": "stdout",
     "output_type": "stream",
     "text": [
      "p1\n",
      "standard_poodle     6283.571429\n",
      "english_springer    5656.111111\n",
      "afghan_hound        5633.000000\n",
      "eskimo_dog          5179.722222\n",
      "saluki              4839.500000\n",
      "Name: retweet_count, dtype: float64\n"
     ]
    }
   ],
   "source": [
    "top_rt = dogs_only.groupby('p1')['retweet_count'].mean().sort_values(ascending=False).head()\n",
    "print (top_rt)"
   ]
  },
  {
   "cell_type": "code",
   "execution_count": 78,
   "metadata": {},
   "outputs": [
    {
     "name": "stdout",
     "output_type": "stream",
     "text": [
      "p1\n",
      "saluki                     23200.750000\n",
      "french_bulldog             18306.440000\n",
      "afghan_hound               16540.333333\n",
      "black-and-tan_coonhound    16356.000000\n",
      "flat-coated_retriever      16149.625000\n",
      "Name: favorite_count, dtype: float64\n"
     ]
    }
   ],
   "source": [
    "top_f = dogs_only.groupby('p1')['favorite_count'].mean().sort_values(ascending=False).head()\n",
    "print (top_f)"
   ]
  },
  {
   "cell_type": "code",
   "execution_count": 79,
   "metadata": {
    "scrolled": false
   },
   "outputs": [
    {
     "name": "stdout",
     "output_type": "stream",
     "text": [
      "p1\n",
      "clumber            2.700000\n",
      "pomeranian         1.289189\n",
      "saluki             1.250000\n",
      "briard             1.233333\n",
      "tibetan_mastiff    1.225000\n",
      "Name: rating_given, dtype: float64\n"
     ]
    }
   ],
   "source": [
    "top_r = dogs_only.groupby('p1')['rating_given'].mean().sort_values(ascending=False).head()\n",
    "print (top_r)"
   ]
  },
  {
   "cell_type": "markdown",
   "metadata": {},
   "source": [
    "We can see some overlap with the dog breeds between these top groupings.  The saluki breed is the only one that appears in all three."
   ]
  },
  {
   "cell_type": "markdown",
   "metadata": {},
   "source": [
    "Since we have the information for dog breeds and stages, I'd like to see what combinations of breed and stages do people like.  I'll filter the data frame to see which dog breeds we have the highest counts for.  I'll select the top three to compare: golden retriever, labrador retriever and pembroke and compare the means of their favorite counts."
   ]
  },
  {
   "cell_type": "code",
   "execution_count": 80,
   "metadata": {},
   "outputs": [],
   "source": [
    "# Making new dataframe made up of dogs with given stage\n",
    "dogs_w_stage = dogs_only[dogs_only.stage != 'None']"
   ]
  },
  {
   "cell_type": "code",
   "execution_count": 81,
   "metadata": {
    "scrolled": true
   },
   "outputs": [
    {
     "data": {
      "text/plain": [
       "golden_retriever               139\n",
       "labrador_retriever              95\n",
       "pembroke                        88\n",
       "chihuahua                       79\n",
       "pug                             54\n",
       "chow                            41\n",
       "samoyed                         39\n",
       "toy_poodle                      38\n",
       "pomeranian                      37\n",
       "malamute                        29\n",
       "cocker_spaniel                  27\n",
       "french_bulldog                  25\n",
       "chesapeake_bay_retriever        23\n",
       "miniature_pinscher              22\n",
       "german_shepherd                 20\n",
       "siberian_husky                  20\n",
       "staffordshire_bullterrier       19\n",
       "eskimo_dog                      18\n",
       "maltese_dog                     18\n",
       "shetland_sheepdog               18\n",
       "rottweiler                      17\n",
       "cardigan                        17\n",
       "beagle                          17\n",
       "shih-tzu                        17\n",
       "lakeland_terrier                16\n",
       "italian_greyhound               16\n",
       "kuvasz                          16\n",
       "great_pyrenees                  14\n",
       "west_highland_white_terrier     14\n",
       "vizsla                          13\n",
       "                              ... \n",
       "saluki                           4\n",
       "norwich_terrier                  4\n",
       "keeshond                         4\n",
       "mexican_hairless                 4\n",
       "leonberg                         3\n",
       "scottish_deerhound               3\n",
       "greater_swiss_mountain_dog       3\n",
       "komondor                         3\n",
       "ibizan_hound                     3\n",
       "cairn                            3\n",
       "welsh_springer_spaniel           3\n",
       "afghan_hound                     3\n",
       "curly-coated_retriever           3\n",
       "giant_schnauzer                  3\n",
       "brabancon_griffon                3\n",
       "briard                           3\n",
       "irish_water_spaniel              3\n",
       "black-and-tan_coonhound          2\n",
       "sussex_spaniel                   2\n",
       "wire-haired_fox_terrier          2\n",
       "australian_terrier               2\n",
       "toy_terrier                      2\n",
       "appenzeller                      2\n",
       "entlebucher                      1\n",
       "clumber                          1\n",
       "scotch_terrier                   1\n",
       "japanese_spaniel                 1\n",
       "groenendael                      1\n",
       "silky_terrier                    1\n",
       "standard_schnauzer               1\n",
       "Name: p1, Length: 111, dtype: int64"
      ]
     },
     "execution_count": 81,
     "metadata": {},
     "output_type": "execute_result"
    }
   ],
   "source": [
    "# Look at most common dogs with given stage\n",
    "dogs_w_stage['p1'].value_counts()"
   ]
  },
  {
   "cell_type": "code",
   "execution_count": 82,
   "metadata": {},
   "outputs": [],
   "source": [
    "mostCommon = dogs_w_stage.loc[(dogs_only['p1'] == 'golden_retriever') | \n",
    "                                  (dogs_only['p1'] == 'labrador_retriever') | \n",
    "                                  (dogs_only['p1'] == 'pembroke')]"
   ]
  },
  {
   "cell_type": "code",
   "execution_count": 83,
   "metadata": {
    "scrolled": false
   },
   "outputs": [
    {
     "data": {
      "image/png": "[encoded data removed]",
      "text/plain": [
       "<matplotlib.figure.Figure at 0x21eeee011d0>"
      ]
     },
     "metadata": {},
     "output_type": "display_data"
    }
   ],
   "source": [
    "fig, ax = plt.subplots(figsize=(15,6))\n",
    "ax.set_title('Mean Favorite Counts for Three Most Common Dog Breeds')\n",
    "mc_dog_w_stage = mostCommon.pivot_table(index='stage', columns='p1', values='favorite_count', aggfunc=np.mean)\n",
    "sns.heatmap(mc_dog_w_stage, annot=True, fmt=\".1f\")\n",
    "plt.show()"
   ]
  },
  {
   "cell_type": "markdown",
   "metadata": {},
   "source": [
    "Although we are lacking some entries for Labrador Retriever and Pembroke floofers, in comparing the information we have between the other ten dog types, we see that young Pembroke puppies (puppos) are the most favorited followed by mature (doggo) Labrador Retrievers."
   ]
  },
  {
   "cell_type": "markdown",
   "metadata": {},
   "source": [
    "Since we have the timestamps for these tweets, I want to look at whether there is a certain day of the month that corresponds to higher retweet activity.  For the visualization, I'll choose to compare mean retweet counts to months and weekdays."
   ]
  },
  {
   "cell_type": "code",
   "execution_count": 84,
   "metadata": {},
   "outputs": [],
   "source": [
    "df5 = df4.copy()\n",
    "\n",
    "df5['year'] = pd.DatetimeIndex(df5['timestamp']).year\n",
    "df5['month'] = pd.DatetimeIndex(df5['timestamp']).month\n",
    "df5['day'] = pd.DatetimeIndex(df5['timestamp']).day\n",
    "df5['weekday'] = pd.DatetimeIndex(df5['timestamp']).weekday\n",
    "df5['hour'] = pd.DatetimeIndex(df5['timestamp']).hour"
   ]
  },
  {
   "cell_type": "code",
   "execution_count": 85,
   "metadata": {},
   "outputs": [
    {
     "data": {
      "image/png": "[encoded data removed]",
      "text/plain": [
       "<matplotlib.figure.Figure at 0x21eeedf9d30>"
      ]
     },
     "metadata": {},
     "output_type": "display_data"
    }
   ],
   "source": [
    "fig, ax = plt.subplots(figsize=(30,15))\n",
    "ax.set_title('Mean Retweet Counts by Month and Day of the Week')\n",
    "df5_hm = df5.pivot_table(index='month', columns='weekday', values='retweet_count', aggfunc=np.mean)\n",
    "sns.heatmap(df5_hm, annot=True, fmt=\".1f\")\n",
    "plt.show()"
   ]
  },
  {
   "cell_type": "markdown",
   "metadata": {},
   "source": [
    "From the visualization, we see that Fridays in June are a popular day to retweet followed by Thursdays in August.  At the end of the year (Novembers and Decembers) retweet are consistently low no matter what day of the week it is."
   ]
  }
 ],
 "metadata": {
  "kernelspec": {
   "display_name": "Python 3",
   "language": "python",
   "name": "python3"
  },
  "language_info": {
   "codemirror_mode": {
    "name": "ipython",
    "version": 3
   },
   "file_extension": ".py",
   "mimetype": "text/x-python",
   "name": "python",
   "nbconvert_exporter": "python",
   "pygments_lexer": "ipython3",
   "version": "3.6.4"
  }
 },
 "nbformat": 4,
 "nbformat_minor": 2
}
